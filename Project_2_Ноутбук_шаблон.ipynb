{
  "cells": [
    {
      "attachments": {},
      "cell_type": "markdown",
      "id": "42289889-bd57-434e-9637-d3e354756316",
      "metadata": {
        "id": "42289889-bd57-434e-9637-d3e354756316"
      },
      "source": [
        "<center> <img src = https://raw.githubusercontent.com/AndreyRysistov/DatasetsForPandas/main/hh%20label.jpg alt=\"drawing\" style=\"width:400px;\"></center>"
      ]
    },
    {
      "cell_type": "markdown",
      "id": "829cb75b-f14e-4ba8-9195-7ba929a7d656",
      "metadata": {
        "id": "829cb75b-f14e-4ba8-9195-7ba929a7d656",
        "tags": []
      },
      "source": [
        "# <center> Проект: Анализ вакансий из HeadHunter\n",
        "   "
      ]
    },
    {
      "cell_type": "code",
      "execution_count": 2,
      "id": "dccfde33-2452-43fb-a8a5-5c6ebc02a71d",
      "metadata": {
        "id": "dccfde33-2452-43fb-a8a5-5c6ebc02a71d"
      },
      "outputs": [],
      "source": [
        "import sqlalchemy\n",
        "from sqlalchemy import text\n",
        "import pandas as pd\n",
        "import psycopg2"
      ]
    },
    {
      "cell_type": "code",
      "execution_count": 3,
      "id": "oVKH4ehvf8Ay",
      "metadata": {
        "id": "oVKH4ehvf8Ay"
      },
      "outputs": [],
      "source": [
        "# вставьте сюда параметры подключения из юнита 1. Работа с базой данных из Python "
      ]
    },
    {
      "cell_type": "code",
      "execution_count": 115,
      "id": "G4X_q8KBf7SF",
      "metadata": {
        "id": "G4X_q8KBf7SF"
      },
      "outputs": [],
      "source": [
        "#затер пароли"
      ]
    },
    {
      "cell_type": "markdown",
      "id": "0dc6476b-7a00-44f1-ac93-6e3baed33a29",
      "metadata": {
        "id": "0dc6476b-7a00-44f1-ac93-6e3baed33a29"
      },
      "source": [
        "# Юнит 3. Предварительный анализ данных"
      ]
    },
    {
      "cell_type": "markdown",
      "id": "889782b6-8d1c-410e-8920-e57f27917c64",
      "metadata": {
        "id": "889782b6-8d1c-410e-8920-e57f27917c64"
      },
      "source": [
        "1. Напишите запрос, который посчитает количество вакансий в нашей базе (вакансии находятся в таблице vacancies). "
      ]
    },
    {
      "cell_type": "code",
      "execution_count": 5,
      "id": "bc39e68e-ed02-4ee2-9235-7258a2f867a8",
      "metadata": {
        "id": "bc39e68e-ed02-4ee2-9235-7258a2f867a8"
      },
      "outputs": [],
      "source": [
        "# ЗАПРОС\n",
        "query_3_1 = '''\n",
        "    SELECT *\n",
        "    FROM vacancies\n",
        "    '''"
      ]
    },
    {
      "cell_type": "code",
      "execution_count": 6,
      "id": "7mAwtsk4hEHY",
      "metadata": {
        "id": "7mAwtsk4hEHY"
      },
      "outputs": [
        {
          "data": {
            "text/html": [
              "<div>\n",
              "<style scoped>\n",
              "    .dataframe tbody tr th:only-of-type {\n",
              "        vertical-align: middle;\n",
              "    }\n",
              "\n",
              "    .dataframe tbody tr th {\n",
              "        vertical-align: top;\n",
              "    }\n",
              "\n",
              "    .dataframe thead th {\n",
              "        text-align: right;\n",
              "    }\n",
              "</style>\n",
              "<table border=\"1\" class=\"dataframe\">\n",
              "  <thead>\n",
              "    <tr style=\"text-align: right;\">\n",
              "      <th></th>\n",
              "      <th>id</th>\n",
              "      <th>name</th>\n",
              "      <th>key_skills</th>\n",
              "      <th>schedule</th>\n",
              "      <th>experience</th>\n",
              "      <th>employment</th>\n",
              "      <th>salary_from</th>\n",
              "      <th>salary_to</th>\n",
              "      <th>area_id</th>\n",
              "      <th>employer_id</th>\n",
              "    </tr>\n",
              "  </thead>\n",
              "  <tbody>\n",
              "    <tr>\n",
              "      <th>0</th>\n",
              "      <td>55312386</td>\n",
              "      <td>Компьютерный Мастер</td>\n",
              "      <td>Пользователь ПК\\tРабота в команде\\tРемонт ноут...</td>\n",
              "      <td>Полный день</td>\n",
              "      <td>Нет опыта</td>\n",
              "      <td>Полная занятость</td>\n",
              "      <td>64000.0</td>\n",
              "      <td>NaN</td>\n",
              "      <td>1516</td>\n",
              "      <td>5724811</td>\n",
              "    </tr>\n",
              "    <tr>\n",
              "      <th>1</th>\n",
              "      <td>55843014</td>\n",
              "      <td>Системный администратор</td>\n",
              "      <td>Средства криптографической защиты информации\\t...</td>\n",
              "      <td>Полный день</td>\n",
              "      <td>От 3 до 6 лет</td>\n",
              "      <td>Полная занятость</td>\n",
              "      <td>NaN</td>\n",
              "      <td>NaN</td>\n",
              "      <td>130</td>\n",
              "      <td>4903713</td>\n",
              "    </tr>\n",
              "    <tr>\n",
              "      <th>2</th>\n",
              "      <td>54525964</td>\n",
              "      <td>Lead Java Developer to Poland</td>\n",
              "      <td>Spring Framework\\tSQL\\tHibernate ORM\\tJava\\tGit</td>\n",
              "      <td>Удаленная работа</td>\n",
              "      <td>От 3 до 6 лет</td>\n",
              "      <td>Полная занятость</td>\n",
              "      <td>NaN</td>\n",
              "      <td>NaN</td>\n",
              "      <td>160</td>\n",
              "      <td>69961</td>\n",
              "    </tr>\n",
              "    <tr>\n",
              "      <th>3</th>\n",
              "      <td>54525965</td>\n",
              "      <td>Lead Java Developer to Poland</td>\n",
              "      <td>Spring Framework\\tSQL\\tHibernate ORM\\tJava\\tGit</td>\n",
              "      <td>Удаленная работа</td>\n",
              "      <td>От 3 до 6 лет</td>\n",
              "      <td>Полная занятость</td>\n",
              "      <td>NaN</td>\n",
              "      <td>NaN</td>\n",
              "      <td>159</td>\n",
              "      <td>69961</td>\n",
              "    </tr>\n",
              "    <tr>\n",
              "      <th>4</th>\n",
              "      <td>55354053</td>\n",
              "      <td>Специалист службы поддержки с техническими зна...</td>\n",
              "      <td>None</td>\n",
              "      <td>Удаленная работа</td>\n",
              "      <td>Нет опыта</td>\n",
              "      <td>Частичная занятость</td>\n",
              "      <td>15000.0</td>\n",
              "      <td>NaN</td>\n",
              "      <td>1955</td>\n",
              "      <td>1740</td>\n",
              "    </tr>\n",
              "    <tr>\n",
              "      <th>...</th>\n",
              "      <td>...</td>\n",
              "      <td>...</td>\n",
              "      <td>...</td>\n",
              "      <td>...</td>\n",
              "      <td>...</td>\n",
              "      <td>...</td>\n",
              "      <td>...</td>\n",
              "      <td>...</td>\n",
              "      <td>...</td>\n",
              "      <td>...</td>\n",
              "    </tr>\n",
              "    <tr>\n",
              "      <th>49192</th>\n",
              "      <td>55589514</td>\n",
              "      <td>Специалист по информационным технологиям</td>\n",
              "      <td>Электронный документооборот\\t1С: Предприятие 8...</td>\n",
              "      <td>Полный день</td>\n",
              "      <td>От 3 до 6 лет</td>\n",
              "      <td>Полная занятость</td>\n",
              "      <td>NaN</td>\n",
              "      <td>NaN</td>\n",
              "      <td>66</td>\n",
              "      <td>5109332</td>\n",
              "    </tr>\n",
              "    <tr>\n",
              "      <th>49193</th>\n",
              "      <td>55029668</td>\n",
              "      <td>Руководитель процессного офиса</td>\n",
              "      <td>Оптимизация бизнес-процессов\\tСтратегическое м...</td>\n",
              "      <td>Полный день</td>\n",
              "      <td>От 3 до 6 лет</td>\n",
              "      <td>Полная занятость</td>\n",
              "      <td>NaN</td>\n",
              "      <td>NaN</td>\n",
              "      <td>26</td>\n",
              "      <td>51333</td>\n",
              "    </tr>\n",
              "    <tr>\n",
              "      <th>49194</th>\n",
              "      <td>66172263</td>\n",
              "      <td>Начальник сервисной службы</td>\n",
              "      <td>Организаторские навыки\\tУправление персоналом\\...</td>\n",
              "      <td>Полный день</td>\n",
              "      <td>От 1 года до 3 лет</td>\n",
              "      <td>Полная занятость</td>\n",
              "      <td>60000.0</td>\n",
              "      <td>NaN</td>\n",
              "      <td>1930</td>\n",
              "      <td>4094700</td>\n",
              "    </tr>\n",
              "    <tr>\n",
              "      <th>49195</th>\n",
              "      <td>66180086</td>\n",
              "      <td>Senior IOS разработчик</td>\n",
              "      <td>Swift\\tRealm\\tiOS\\tАнглийский язык\\tMVP\\tMVVM\\...</td>\n",
              "      <td>Полный день</td>\n",
              "      <td>От 1 года до 3 лет</td>\n",
              "      <td>Полная занятость</td>\n",
              "      <td>146456.0</td>\n",
              "      <td>244094.0</td>\n",
              "      <td>160</td>\n",
              "      <td>4469939</td>\n",
              "    </tr>\n",
              "    <tr>\n",
              "      <th>49196</th>\n",
              "      <td>55547842</td>\n",
              "      <td>DataOps Engineer</td>\n",
              "      <td>None</td>\n",
              "      <td>Удаленная работа</td>\n",
              "      <td>От 3 до 6 лет</td>\n",
              "      <td>Полная занятость</td>\n",
              "      <td>NaN</td>\n",
              "      <td>NaN</td>\n",
              "      <td>160</td>\n",
              "      <td>4978627</td>\n",
              "    </tr>\n",
              "  </tbody>\n",
              "</table>\n",
              "<p>49197 rows × 10 columns</p>\n",
              "</div>"
            ],
            "text/plain": [
              "             id                                               name  \\\n",
              "0      55312386                                Компьютерный Мастер   \n",
              "1      55843014                            Системный администратор   \n",
              "2      54525964                      Lead Java Developer to Poland   \n",
              "3      54525965                      Lead Java Developer to Poland   \n",
              "4      55354053  Специалист службы поддержки с техническими зна...   \n",
              "...         ...                                                ...   \n",
              "49192  55589514           Специалист по информационным технологиям   \n",
              "49193  55029668                     Руководитель процессного офиса   \n",
              "49194  66172263                         Начальник сервисной службы   \n",
              "49195  66180086                             Senior IOS разработчик   \n",
              "49196  55547842                                   DataOps Engineer   \n",
              "\n",
              "                                              key_skills          schedule  \\\n",
              "0      Пользователь ПК\\tРабота в команде\\tРемонт ноут...       Полный день   \n",
              "1      Средства криптографической защиты информации\\t...       Полный день   \n",
              "2        Spring Framework\\tSQL\\tHibernate ORM\\tJava\\tGit  Удаленная работа   \n",
              "3        Spring Framework\\tSQL\\tHibernate ORM\\tJava\\tGit  Удаленная работа   \n",
              "4                                                   None  Удаленная работа   \n",
              "...                                                  ...               ...   \n",
              "49192  Электронный документооборот\\t1С: Предприятие 8...       Полный день   \n",
              "49193  Оптимизация бизнес-процессов\\tСтратегическое м...       Полный день   \n",
              "49194  Организаторские навыки\\tУправление персоналом\\...       Полный день   \n",
              "49195  Swift\\tRealm\\tiOS\\tАнглийский язык\\tMVP\\tMVVM\\...       Полный день   \n",
              "49196                                               None  Удаленная работа   \n",
              "\n",
              "               experience           employment  salary_from  salary_to  \\\n",
              "0               Нет опыта     Полная занятость      64000.0        NaN   \n",
              "1           От 3 до 6 лет     Полная занятость          NaN        NaN   \n",
              "2           От 3 до 6 лет     Полная занятость          NaN        NaN   \n",
              "3           От 3 до 6 лет     Полная занятость          NaN        NaN   \n",
              "4               Нет опыта  Частичная занятость      15000.0        NaN   \n",
              "...                   ...                  ...          ...        ...   \n",
              "49192       От 3 до 6 лет     Полная занятость          NaN        NaN   \n",
              "49193       От 3 до 6 лет     Полная занятость          NaN        NaN   \n",
              "49194  От 1 года до 3 лет     Полная занятость      60000.0        NaN   \n",
              "49195  От 1 года до 3 лет     Полная занятость     146456.0   244094.0   \n",
              "49196       От 3 до 6 лет     Полная занятость          NaN        NaN   \n",
              "\n",
              "       area_id  employer_id  \n",
              "0         1516      5724811  \n",
              "1          130      4903713  \n",
              "2          160        69961  \n",
              "3          159        69961  \n",
              "4         1955         1740  \n",
              "...        ...          ...  \n",
              "49192       66      5109332  \n",
              "49193       26        51333  \n",
              "49194     1930      4094700  \n",
              "49195      160      4469939  \n",
              "49196      160      4978627  \n",
              "\n",
              "[49197 rows x 10 columns]"
            ]
          },
          "metadata": {},
          "output_type": "display_data"
        }
      ],
      "source": [
        "result = conn.execute(text(query_3_1)).fetchall()\n",
        "df = pd.DataFrame(result)\n",
        "display(df)"
      ]
    },
    {
      "cell_type": "markdown",
      "id": "b583485d-1f9e-494e-ada4-80ffff7c53d6",
      "metadata": {
        "id": "b583485d-1f9e-494e-ada4-80ffff7c53d6"
      },
      "source": [
        "2. Напишите запрос, который посчитает количество работодателей (таблица employers). "
      ]
    },
    {
      "cell_type": "code",
      "execution_count": 7,
      "id": "5408c52c-3407-4a63-b25b-1aafa2322d28",
      "metadata": {
        "id": "5408c52c-3407-4a63-b25b-1aafa2322d28"
      },
      "outputs": [],
      "source": [
        "query_3_2 = '''\n",
        "select\n",
        "*\n",
        "from employers\n",
        "'''"
      ]
    },
    {
      "cell_type": "code",
      "execution_count": 8,
      "id": "jVL4eshKhdqc",
      "metadata": {
        "id": "jVL4eshKhdqc"
      },
      "outputs": [
        {
          "data": {
            "text/html": [
              "<div>\n",
              "<style scoped>\n",
              "    .dataframe tbody tr th:only-of-type {\n",
              "        vertical-align: middle;\n",
              "    }\n",
              "\n",
              "    .dataframe tbody tr th {\n",
              "        vertical-align: top;\n",
              "    }\n",
              "\n",
              "    .dataframe thead th {\n",
              "        text-align: right;\n",
              "    }\n",
              "</style>\n",
              "<table border=\"1\" class=\"dataframe\">\n",
              "  <thead>\n",
              "    <tr style=\"text-align: right;\">\n",
              "      <th></th>\n",
              "      <th>id</th>\n",
              "      <th>name</th>\n",
              "      <th>area</th>\n",
              "    </tr>\n",
              "  </thead>\n",
              "  <tbody>\n",
              "    <tr>\n",
              "      <th>0</th>\n",
              "      <td>2393</td>\n",
              "      <td>Программный Продукт, ИТ-компания</td>\n",
              "      <td>1</td>\n",
              "    </tr>\n",
              "    <tr>\n",
              "      <th>1</th>\n",
              "      <td>72977</td>\n",
              "      <td>БАРС Груп</td>\n",
              "      <td>88</td>\n",
              "    </tr>\n",
              "    <tr>\n",
              "      <th>2</th>\n",
              "      <td>3155</td>\n",
              "      <td>Бест, Торгово-производственная компания, Екате...</td>\n",
              "      <td>3</td>\n",
              "    </tr>\n",
              "    <tr>\n",
              "      <th>3</th>\n",
              "      <td>675</td>\n",
              "      <td>КОРУС Консалтинг</td>\n",
              "      <td>2</td>\n",
              "    </tr>\n",
              "    <tr>\n",
              "      <th>4</th>\n",
              "      <td>1840010</td>\n",
              "      <td>филиал ФКУ Налог-Сервис ФНС России в Республик...</td>\n",
              "      <td>88</td>\n",
              "    </tr>\n",
              "    <tr>\n",
              "      <th>...</th>\n",
              "      <td>...</td>\n",
              "      <td>...</td>\n",
              "      <td>...</td>\n",
              "    </tr>\n",
              "    <tr>\n",
              "      <th>23496</th>\n",
              "      <td>1441774</td>\n",
              "      <td>МарКо</td>\n",
              "      <td>88</td>\n",
              "    </tr>\n",
              "    <tr>\n",
              "      <th>23497</th>\n",
              "      <td>4718575</td>\n",
              "      <td>MKomov Studio</td>\n",
              "      <td>73</td>\n",
              "    </tr>\n",
              "    <tr>\n",
              "      <th>23498</th>\n",
              "      <td>3702770</td>\n",
              "      <td>АКИБ Ипотека-банк</td>\n",
              "      <td>2759</td>\n",
              "    </tr>\n",
              "    <tr>\n",
              "      <th>23499</th>\n",
              "      <td>5636092</td>\n",
              "      <td>ГИМ-КЛИНИКА</td>\n",
              "      <td>99</td>\n",
              "    </tr>\n",
              "    <tr>\n",
              "      <th>23500</th>\n",
              "      <td>2064382</td>\n",
              "      <td>Рыббла</td>\n",
              "      <td>104</td>\n",
              "    </tr>\n",
              "  </tbody>\n",
              "</table>\n",
              "<p>23501 rows × 3 columns</p>\n",
              "</div>"
            ],
            "text/plain": [
              "            id                                               name  area\n",
              "0         2393                   Программный Продукт, ИТ-компания     1\n",
              "1        72977                                          БАРС Груп    88\n",
              "2         3155  Бест, Торгово-производственная компания, Екате...     3\n",
              "3          675                                   КОРУС Консалтинг     2\n",
              "4      1840010  филиал ФКУ Налог-Сервис ФНС России в Республик...    88\n",
              "...        ...                                                ...   ...\n",
              "23496  1441774                                              МарКо    88\n",
              "23497  4718575                                      MKomov Studio    73\n",
              "23498  3702770                                  АКИБ Ипотека-банк  2759\n",
              "23499  5636092                                        ГИМ-КЛИНИКА    99\n",
              "23500  2064382                                             Рыббла   104\n",
              "\n",
              "[23501 rows x 3 columns]"
            ]
          },
          "metadata": {},
          "output_type": "display_data"
        }
      ],
      "source": [
        "result = conn.execute(text(query_3_2)).fetchall()\n",
        "df = pd.DataFrame(result)\n",
        "display(df)"
      ]
    },
    {
      "cell_type": "markdown",
      "id": "a2bfff1f-c975-4bf6-84be-2185d79dcb76",
      "metadata": {
        "id": "a2bfff1f-c975-4bf6-84be-2185d79dcb76"
      },
      "source": [
        "3. Посчитате с помощью запроса количество регионов (таблица areas)."
      ]
    },
    {
      "cell_type": "code",
      "execution_count": 9,
      "id": "1m8QJwBYhey6",
      "metadata": {
        "id": "1m8QJwBYhey6"
      },
      "outputs": [],
      "source": [
        "query_3_3 = '''\n",
        "select\n",
        "*\n",
        "from employers\n",
        "'''"
      ]
    },
    {
      "cell_type": "code",
      "execution_count": 10,
      "id": "EZsn9tlfhe7f",
      "metadata": {
        "id": "EZsn9tlfhe7f"
      },
      "outputs": [
        {
          "data": {
            "text/html": [
              "<div>\n",
              "<style scoped>\n",
              "    .dataframe tbody tr th:only-of-type {\n",
              "        vertical-align: middle;\n",
              "    }\n",
              "\n",
              "    .dataframe tbody tr th {\n",
              "        vertical-align: top;\n",
              "    }\n",
              "\n",
              "    .dataframe thead th {\n",
              "        text-align: right;\n",
              "    }\n",
              "</style>\n",
              "<table border=\"1\" class=\"dataframe\">\n",
              "  <thead>\n",
              "    <tr style=\"text-align: right;\">\n",
              "      <th></th>\n",
              "      <th>id</th>\n",
              "      <th>name</th>\n",
              "      <th>area</th>\n",
              "    </tr>\n",
              "  </thead>\n",
              "  <tbody>\n",
              "    <tr>\n",
              "      <th>0</th>\n",
              "      <td>2393</td>\n",
              "      <td>Программный Продукт, ИТ-компания</td>\n",
              "      <td>1</td>\n",
              "    </tr>\n",
              "    <tr>\n",
              "      <th>1</th>\n",
              "      <td>72977</td>\n",
              "      <td>БАРС Груп</td>\n",
              "      <td>88</td>\n",
              "    </tr>\n",
              "    <tr>\n",
              "      <th>2</th>\n",
              "      <td>3155</td>\n",
              "      <td>Бест, Торгово-производственная компания, Екате...</td>\n",
              "      <td>3</td>\n",
              "    </tr>\n",
              "    <tr>\n",
              "      <th>3</th>\n",
              "      <td>675</td>\n",
              "      <td>КОРУС Консалтинг</td>\n",
              "      <td>2</td>\n",
              "    </tr>\n",
              "    <tr>\n",
              "      <th>4</th>\n",
              "      <td>1840010</td>\n",
              "      <td>филиал ФКУ Налог-Сервис ФНС России в Республик...</td>\n",
              "      <td>88</td>\n",
              "    </tr>\n",
              "    <tr>\n",
              "      <th>...</th>\n",
              "      <td>...</td>\n",
              "      <td>...</td>\n",
              "      <td>...</td>\n",
              "    </tr>\n",
              "    <tr>\n",
              "      <th>23496</th>\n",
              "      <td>1441774</td>\n",
              "      <td>МарКо</td>\n",
              "      <td>88</td>\n",
              "    </tr>\n",
              "    <tr>\n",
              "      <th>23497</th>\n",
              "      <td>4718575</td>\n",
              "      <td>MKomov Studio</td>\n",
              "      <td>73</td>\n",
              "    </tr>\n",
              "    <tr>\n",
              "      <th>23498</th>\n",
              "      <td>3702770</td>\n",
              "      <td>АКИБ Ипотека-банк</td>\n",
              "      <td>2759</td>\n",
              "    </tr>\n",
              "    <tr>\n",
              "      <th>23499</th>\n",
              "      <td>5636092</td>\n",
              "      <td>ГИМ-КЛИНИКА</td>\n",
              "      <td>99</td>\n",
              "    </tr>\n",
              "    <tr>\n",
              "      <th>23500</th>\n",
              "      <td>2064382</td>\n",
              "      <td>Рыббла</td>\n",
              "      <td>104</td>\n",
              "    </tr>\n",
              "  </tbody>\n",
              "</table>\n",
              "<p>23501 rows × 3 columns</p>\n",
              "</div>"
            ],
            "text/plain": [
              "            id                                               name  area\n",
              "0         2393                   Программный Продукт, ИТ-компания     1\n",
              "1        72977                                          БАРС Груп    88\n",
              "2         3155  Бест, Торгово-производственная компания, Екате...     3\n",
              "3          675                                   КОРУС Консалтинг     2\n",
              "4      1840010  филиал ФКУ Налог-Сервис ФНС России в Республик...    88\n",
              "...        ...                                                ...   ...\n",
              "23496  1441774                                              МарКо    88\n",
              "23497  4718575                                      MKomov Studio    73\n",
              "23498  3702770                                  АКИБ Ипотека-банк  2759\n",
              "23499  5636092                                        ГИМ-КЛИНИКА    99\n",
              "23500  2064382                                             Рыббла   104\n",
              "\n",
              "[23501 rows x 3 columns]"
            ]
          },
          "metadata": {},
          "output_type": "display_data"
        }
      ],
      "source": [
        "result = conn.execute(text(query_3_3)).fetchall()\n",
        "df = pd.DataFrame(result)\n",
        "display(df)"
      ]
    },
    {
      "cell_type": "markdown",
      "id": "41bb59f3-53cc-4a67-a5bc-bedf573955e4",
      "metadata": {
        "id": "41bb59f3-53cc-4a67-a5bc-bedf573955e4"
      },
      "source": [
        "4. Посчитате с помощью запроса количество сфер деятельности в базе (таблица industries)."
      ]
    },
    {
      "cell_type": "code",
      "execution_count": 11,
      "id": "d286cf4c-707b-4cd2-9190-7ab3587d04a1",
      "metadata": {
        "id": "d286cf4c-707b-4cd2-9190-7ab3587d04a1"
      },
      "outputs": [],
      "source": [
        "query_3_4 = f'''\n",
        "select\n",
        "*\n",
        "from public.industries\n",
        "'''"
      ]
    },
    {
      "cell_type": "code",
      "execution_count": 12,
      "id": "JYAaoZ4qhfzW",
      "metadata": {
        "id": "JYAaoZ4qhfzW"
      },
      "outputs": [
        {
          "data": {
            "text/html": [
              "<div>\n",
              "<style scoped>\n",
              "    .dataframe tbody tr th:only-of-type {\n",
              "        vertical-align: middle;\n",
              "    }\n",
              "\n",
              "    .dataframe tbody tr th {\n",
              "        vertical-align: top;\n",
              "    }\n",
              "\n",
              "    .dataframe thead th {\n",
              "        text-align: right;\n",
              "    }\n",
              "</style>\n",
              "<table border=\"1\" class=\"dataframe\">\n",
              "  <thead>\n",
              "    <tr style=\"text-align: right;\">\n",
              "      <th></th>\n",
              "      <th>id</th>\n",
              "      <th>name</th>\n",
              "    </tr>\n",
              "  </thead>\n",
              "  <tbody>\n",
              "    <tr>\n",
              "      <th>0</th>\n",
              "      <td>7.540</td>\n",
              "      <td>Разработка программного обеспечения</td>\n",
              "    </tr>\n",
              "    <tr>\n",
              "      <th>1</th>\n",
              "      <td>7.539</td>\n",
              "      <td>Системная интеграция,  автоматизации технологи...</td>\n",
              "    </tr>\n",
              "    <tr>\n",
              "      <th>2</th>\n",
              "      <td>27.550</td>\n",
              "      <td>Безалкогольные напитки (производство)</td>\n",
              "    </tr>\n",
              "    <tr>\n",
              "      <th>3</th>\n",
              "      <td>27.551</td>\n",
              "      <td>Безалкогольные напитки (продвижение, оптовая т...</td>\n",
              "    </tr>\n",
              "    <tr>\n",
              "      <th>4</th>\n",
              "      <td>13.664</td>\n",
              "      <td>Управление и эксплуатация недвижимости</td>\n",
              "    </tr>\n",
              "    <tr>\n",
              "      <th>...</th>\n",
              "      <td>...</td>\n",
              "      <td>...</td>\n",
              "    </tr>\n",
              "    <tr>\n",
              "      <th>289</th>\n",
              "      <td>37.626</td>\n",
              "      <td>Ассоциация в сфере культуры, искусства</td>\n",
              "    </tr>\n",
              "    <tr>\n",
              "      <th>290</th>\n",
              "      <td>42.603</td>\n",
              "      <td>Табак  (производство)</td>\n",
              "    </tr>\n",
              "    <tr>\n",
              "      <th>291</th>\n",
              "      <td>29.532</td>\n",
              "      <td>Рыболовство, рыбоводство</td>\n",
              "    </tr>\n",
              "    <tr>\n",
              "      <th>292</th>\n",
              "      <td>37.627</td>\n",
              "      <td>Благотворительная организация</td>\n",
              "    </tr>\n",
              "    <tr>\n",
              "      <th>293</th>\n",
              "      <td>388.505</td>\n",
              "      <td>Оборудование для деревообработки, заготовки ле...</td>\n",
              "    </tr>\n",
              "  </tbody>\n",
              "</table>\n",
              "<p>294 rows × 2 columns</p>\n",
              "</div>"
            ],
            "text/plain": [
              "          id                                               name\n",
              "0      7.540                Разработка программного обеспечения\n",
              "1      7.539  Системная интеграция,  автоматизации технологи...\n",
              "2     27.550              Безалкогольные напитки (производство)\n",
              "3     27.551  Безалкогольные напитки (продвижение, оптовая т...\n",
              "4     13.664             Управление и эксплуатация недвижимости\n",
              "..       ...                                                ...\n",
              "289   37.626             Ассоциация в сфере культуры, искусства\n",
              "290   42.603                              Табак  (производство)\n",
              "291   29.532                           Рыболовство, рыбоводство\n",
              "292   37.627                      Благотворительная организация\n",
              "293  388.505  Оборудование для деревообработки, заготовки ле...\n",
              "\n",
              "[294 rows x 2 columns]"
            ]
          },
          "metadata": {},
          "output_type": "display_data"
        }
      ],
      "source": [
        "result = conn.execute(text(query_3_4)).fetchall()\n",
        "df = pd.DataFrame(result)\n",
        "display(df)"
      ]
    },
    {
      "cell_type": "markdown",
      "id": "9a8a2181-6914-448b-85f1-38f5f18b8a93",
      "metadata": {
        "id": "9a8a2181-6914-448b-85f1-38f5f18b8a93"
      },
      "source": [
        "***"
      ]
    },
    {
      "cell_type": "code",
      "execution_count": 13,
      "id": "be4e9bd3-a4db-4a20-82fb-6b02fc2957e0",
      "metadata": {
        "id": "be4e9bd3-a4db-4a20-82fb-6b02fc2957e0"
      },
      "outputs": [],
      "source": [
        "# соездинения с БД установлено"
      ]
    },
    {
      "cell_type": "markdown",
      "id": "8d62a9f3-f64e-4fe7-bdac-c4dffa16155e",
      "metadata": {
        "id": "8d62a9f3-f64e-4fe7-bdac-c4dffa16155e"
      },
      "source": [
        "# Юнит 4. Детальный анализ вакансий"
      ]
    },
    {
      "cell_type": "markdown",
      "id": "93053d3d-b284-481a-9cf7-012d7014c0e0",
      "metadata": {
        "id": "93053d3d-b284-481a-9cf7-012d7014c0e0"
      },
      "source": [
        "1. Напишите запрос, который позволит узнать, сколько (cnt) вакансий в каждом регионе (area).\n",
        "Отсортируйте по количеству вакансий в порядке убывания."
      ]
    },
    {
      "cell_type": "code",
      "execution_count": 14,
      "id": "3f069da6-fdc9-4ae7-b514-fafe2675efd3",
      "metadata": {
        "id": "3f069da6-fdc9-4ae7-b514-fafe2675efd3"
      },
      "outputs": [],
      "source": [
        "query_4_1 = '''\n",
        "select\n",
        "a.name,\n",
        "COUNT(v.id)\n",
        "from public.VACANCIES v\n",
        "join public.EMPLOYERS e ON v.employer_id = e.id\n",
        "join public.AREAS a ON v.area_id = a.id\n",
        "GROUP BY a.name\n",
        "ORDER BY 2 desc\n",
        "'''"
      ]
    },
    {
      "cell_type": "code",
      "execution_count": 15,
      "id": "P7QL86hrjhRJ",
      "metadata": {
        "id": "P7QL86hrjhRJ"
      },
      "outputs": [
        {
          "data": {
            "text/html": [
              "<div>\n",
              "<style scoped>\n",
              "    .dataframe tbody tr th:only-of-type {\n",
              "        vertical-align: middle;\n",
              "    }\n",
              "\n",
              "    .dataframe tbody tr th {\n",
              "        vertical-align: top;\n",
              "    }\n",
              "\n",
              "    .dataframe thead th {\n",
              "        text-align: right;\n",
              "    }\n",
              "</style>\n",
              "<table border=\"1\" class=\"dataframe\">\n",
              "  <thead>\n",
              "    <tr style=\"text-align: right;\">\n",
              "      <th></th>\n",
              "      <th>name</th>\n",
              "      <th>count</th>\n",
              "    </tr>\n",
              "  </thead>\n",
              "  <tbody>\n",
              "    <tr>\n",
              "      <th>0</th>\n",
              "      <td>Москва</td>\n",
              "      <td>5333</td>\n",
              "    </tr>\n",
              "    <tr>\n",
              "      <th>1</th>\n",
              "      <td>Санкт-Петербург</td>\n",
              "      <td>2851</td>\n",
              "    </tr>\n",
              "    <tr>\n",
              "      <th>2</th>\n",
              "      <td>Минск</td>\n",
              "      <td>2112</td>\n",
              "    </tr>\n",
              "    <tr>\n",
              "      <th>3</th>\n",
              "      <td>Новосибирск</td>\n",
              "      <td>2006</td>\n",
              "    </tr>\n",
              "    <tr>\n",
              "      <th>4</th>\n",
              "      <td>Алматы</td>\n",
              "      <td>1892</td>\n",
              "    </tr>\n",
              "    <tr>\n",
              "      <th>...</th>\n",
              "      <td>...</td>\n",
              "      <td>...</td>\n",
              "    </tr>\n",
              "    <tr>\n",
              "      <th>764</th>\n",
              "      <td>Тарко-Сале</td>\n",
              "      <td>1</td>\n",
              "    </tr>\n",
              "    <tr>\n",
              "      <th>765</th>\n",
              "      <td>Новоаннинский</td>\n",
              "      <td>1</td>\n",
              "    </tr>\n",
              "    <tr>\n",
              "      <th>766</th>\n",
              "      <td>Бирск</td>\n",
              "      <td>1</td>\n",
              "    </tr>\n",
              "    <tr>\n",
              "      <th>767</th>\n",
              "      <td>Сасово</td>\n",
              "      <td>1</td>\n",
              "    </tr>\n",
              "    <tr>\n",
              "      <th>768</th>\n",
              "      <td>Анна</td>\n",
              "      <td>1</td>\n",
              "    </tr>\n",
              "  </tbody>\n",
              "</table>\n",
              "<p>769 rows × 2 columns</p>\n",
              "</div>"
            ],
            "text/plain": [
              "                name  count\n",
              "0             Москва   5333\n",
              "1    Санкт-Петербург   2851\n",
              "2              Минск   2112\n",
              "3        Новосибирск   2006\n",
              "4             Алматы   1892\n",
              "..               ...    ...\n",
              "764       Тарко-Сале      1\n",
              "765    Новоаннинский      1\n",
              "766            Бирск      1\n",
              "767           Сасово      1\n",
              "768             Анна      1\n",
              "\n",
              "[769 rows x 2 columns]"
            ]
          },
          "metadata": {},
          "output_type": "display_data"
        }
      ],
      "source": [
        "result = conn.execute(text(query_4_1)).fetchall()\n",
        "df = pd.DataFrame(result)\n",
        "df.sample(3)\n",
        "display(df)"
      ]
    },
    {
      "cell_type": "markdown",
      "id": "4266f0b6-1646-492a-88b4-2f6a46502135",
      "metadata": {
        "id": "4266f0b6-1646-492a-88b4-2f6a46502135"
      },
      "source": [
        "2. Напишите запрос, чтобы определить у какого количества вакансий заполнено хотя бы одно из двух полей с зарплатой."
      ]
    },
    {
      "cell_type": "code",
      "execution_count": 16,
      "id": "0c44b350-72eb-4d65-8b54-a1fc449ba9fd",
      "metadata": {
        "id": "0c44b350-72eb-4d65-8b54-a1fc449ba9fd"
      },
      "outputs": [],
      "source": [
        "query_4_2 = '''\n",
        "SELECT\n",
        "*\n",
        "FROM\n",
        "    public.vacancies v\n",
        "WHERE salary_from IS NOT NULL\n",
        "\n",
        "union\n",
        "\n",
        "SELECT\n",
        "*\n",
        "FROM\n",
        "    public.vacancies v\n",
        "WHERE salary_to IS NOT NULL\n",
        "'''"
      ]
    },
    {
      "cell_type": "code",
      "execution_count": 17,
      "id": "rhvwaMDkoWTi",
      "metadata": {
        "id": "rhvwaMDkoWTi"
      },
      "outputs": [
        {
          "data": {
            "text/html": [
              "<div>\n",
              "<style scoped>\n",
              "    .dataframe tbody tr th:only-of-type {\n",
              "        vertical-align: middle;\n",
              "    }\n",
              "\n",
              "    .dataframe tbody tr th {\n",
              "        vertical-align: top;\n",
              "    }\n",
              "\n",
              "    .dataframe thead th {\n",
              "        text-align: right;\n",
              "    }\n",
              "</style>\n",
              "<table border=\"1\" class=\"dataframe\">\n",
              "  <thead>\n",
              "    <tr style=\"text-align: right;\">\n",
              "      <th></th>\n",
              "      <th>id</th>\n",
              "      <th>name</th>\n",
              "      <th>key_skills</th>\n",
              "      <th>schedule</th>\n",
              "      <th>experience</th>\n",
              "      <th>employment</th>\n",
              "      <th>salary_from</th>\n",
              "      <th>salary_to</th>\n",
              "      <th>area_id</th>\n",
              "      <th>employer_id</th>\n",
              "    </tr>\n",
              "  </thead>\n",
              "  <tbody>\n",
              "    <tr>\n",
              "      <th>0</th>\n",
              "      <td>6555939</td>\n",
              "      <td>Ведущий программист 1С</td>\n",
              "      <td>1С программирование\\t1С: Бухгалтерия\\t1С: Пред...</td>\n",
              "      <td>Удаленная работа</td>\n",
              "      <td>От 1 года до 3 лет</td>\n",
              "      <td>Полная занятость</td>\n",
              "      <td>150000.0</td>\n",
              "      <td>NaN</td>\n",
              "      <td>92</td>\n",
              "      <td>200522</td>\n",
              "    </tr>\n",
              "    <tr>\n",
              "      <th>1</th>\n",
              "      <td>14694668</td>\n",
              "      <td>Junior разработчик (стажер)</td>\n",
              "      <td>None</td>\n",
              "      <td>Полный день</td>\n",
              "      <td>Нет опыта</td>\n",
              "      <td>Полная занятость</td>\n",
              "      <td>20000.0</td>\n",
              "      <td>NaN</td>\n",
              "      <td>92</td>\n",
              "      <td>1196086</td>\n",
              "    </tr>\n",
              "    <tr>\n",
              "      <th>2</th>\n",
              "      <td>14820007</td>\n",
              "      <td>Программист 1С</td>\n",
              "      <td>1С программирование\\t1С: Бухгалтерия\\t1С: Пред...</td>\n",
              "      <td>Удаленная работа</td>\n",
              "      <td>От 1 года до 3 лет</td>\n",
              "      <td>Полная занятость</td>\n",
              "      <td>100000.0</td>\n",
              "      <td>NaN</td>\n",
              "      <td>92</td>\n",
              "      <td>200522</td>\n",
              "    </tr>\n",
              "    <tr>\n",
              "      <th>3</th>\n",
              "      <td>16142474</td>\n",
              "      <td>Специалист по сопровождению ПО (техническая по...</td>\n",
              "      <td>SQL\\tБазы данных</td>\n",
              "      <td>Полный день</td>\n",
              "      <td>Нет опыта</td>\n",
              "      <td>Полная занятость</td>\n",
              "      <td>20000.0</td>\n",
              "      <td>70000.0</td>\n",
              "      <td>96</td>\n",
              "      <td>1020927</td>\n",
              "    </tr>\n",
              "    <tr>\n",
              "      <th>4</th>\n",
              "      <td>17987111</td>\n",
              "      <td>Начинающий специалист контактного центра</td>\n",
              "      <td>None</td>\n",
              "      <td>Удаленная работа</td>\n",
              "      <td>Нет опыта</td>\n",
              "      <td>Полная занятость</td>\n",
              "      <td>32500.0</td>\n",
              "      <td>NaN</td>\n",
              "      <td>98</td>\n",
              "      <td>3776</td>\n",
              "    </tr>\n",
              "    <tr>\n",
              "      <th>...</th>\n",
              "      <td>...</td>\n",
              "      <td>...</td>\n",
              "      <td>...</td>\n",
              "      <td>...</td>\n",
              "      <td>...</td>\n",
              "      <td>...</td>\n",
              "      <td>...</td>\n",
              "      <td>...</td>\n",
              "      <td>...</td>\n",
              "      <td>...</td>\n",
              "    </tr>\n",
              "    <tr>\n",
              "      <th>24068</th>\n",
              "      <td>66195906</td>\n",
              "      <td>Программист 1С (поддержка пользователей)</td>\n",
              "      <td>1С: Управление Торговлей\\tSQL\\t1С программиров...</td>\n",
              "      <td>Удаленная работа</td>\n",
              "      <td>От 3 до 6 лет</td>\n",
              "      <td>Полная занятость</td>\n",
              "      <td>90000.0</td>\n",
              "      <td>120000.0</td>\n",
              "      <td>92</td>\n",
              "      <td>909573</td>\n",
              "    </tr>\n",
              "    <tr>\n",
              "      <th>24069</th>\n",
              "      <td>66196086</td>\n",
              "      <td>Golang-разработчик</td>\n",
              "      <td>Golang\\tLinux\\tRedis\\tGit\\tRabbitMQ\\tPHP</td>\n",
              "      <td>Полный день</td>\n",
              "      <td>От 1 года до 3 лет</td>\n",
              "      <td>Полная занятость</td>\n",
              "      <td>100000.0</td>\n",
              "      <td>NaN</td>\n",
              "      <td>76</td>\n",
              "      <td>44573</td>\n",
              "    </tr>\n",
              "    <tr>\n",
              "      <th>24070</th>\n",
              "      <td>66196283</td>\n",
              "      <td>Ментор на курс (React, Python)</td>\n",
              "      <td>Git\\tPython\\tPostgreSQL\\tSQL\\tDjango Framework...</td>\n",
              "      <td>Полный день</td>\n",
              "      <td>От 1 года до 3 лет</td>\n",
              "      <td>Частичная занятость</td>\n",
              "      <td>14564.0</td>\n",
              "      <td>21845.0</td>\n",
              "      <td>2760</td>\n",
              "      <td>4326421</td>\n",
              "    </tr>\n",
              "    <tr>\n",
              "      <th>24071</th>\n",
              "      <td>66196369</td>\n",
              "      <td>IOS разработчик</td>\n",
              "      <td>Atlassian Jira\\tSwift\\tGit\\tООП\\tUnit Testing</td>\n",
              "      <td>Удаленная работа</td>\n",
              "      <td>От 3 до 6 лет</td>\n",
              "      <td>Полная занятость</td>\n",
              "      <td>167170.0</td>\n",
              "      <td>222893.0</td>\n",
              "      <td>2758</td>\n",
              "      <td>5706473</td>\n",
              "    </tr>\n",
              "    <tr>\n",
              "      <th>24072</th>\n",
              "      <td>66196438</td>\n",
              "      <td>Маркетолог</td>\n",
              "      <td>Продвижение бренда\\tМаркетинговые исследования...</td>\n",
              "      <td>Полный день</td>\n",
              "      <td>Более 6 лет</td>\n",
              "      <td>Полная занятость</td>\n",
              "      <td>31809.0</td>\n",
              "      <td>37110.0</td>\n",
              "      <td>2759</td>\n",
              "      <td>3796695</td>\n",
              "    </tr>\n",
              "  </tbody>\n",
              "</table>\n",
              "<p>24073 rows × 10 columns</p>\n",
              "</div>"
            ],
            "text/plain": [
              "             id                                               name  \\\n",
              "0       6555939                             Ведущий программист 1С   \n",
              "1      14694668                        Junior разработчик (стажер)   \n",
              "2      14820007                                     Программист 1С   \n",
              "3      16142474  Специалист по сопровождению ПО (техническая по...   \n",
              "4      17987111           Начинающий специалист контактного центра   \n",
              "...         ...                                                ...   \n",
              "24068  66195906           Программист 1С (поддержка пользователей)   \n",
              "24069  66196086                                 Golang-разработчик   \n",
              "24070  66196283                     Ментор на курс (React, Python)   \n",
              "24071  66196369                                    IOS разработчик   \n",
              "24072  66196438                                         Маркетолог   \n",
              "\n",
              "                                              key_skills          schedule  \\\n",
              "0      1С программирование\\t1С: Бухгалтерия\\t1С: Пред...  Удаленная работа   \n",
              "1                                                   None       Полный день   \n",
              "2      1С программирование\\t1С: Бухгалтерия\\t1С: Пред...  Удаленная работа   \n",
              "3                                       SQL\\tБазы данных       Полный день   \n",
              "4                                                   None  Удаленная работа   \n",
              "...                                                  ...               ...   \n",
              "24068  1С: Управление Торговлей\\tSQL\\t1С программиров...  Удаленная работа   \n",
              "24069           Golang\\tLinux\\tRedis\\tGit\\tRabbitMQ\\tPHP       Полный день   \n",
              "24070  Git\\tPython\\tPostgreSQL\\tSQL\\tDjango Framework...       Полный день   \n",
              "24071      Atlassian Jira\\tSwift\\tGit\\tООП\\tUnit Testing  Удаленная работа   \n",
              "24072  Продвижение бренда\\tМаркетинговые исследования...       Полный день   \n",
              "\n",
              "               experience           employment  salary_from  salary_to  \\\n",
              "0      От 1 года до 3 лет     Полная занятость     150000.0        NaN   \n",
              "1               Нет опыта     Полная занятость      20000.0        NaN   \n",
              "2      От 1 года до 3 лет     Полная занятость     100000.0        NaN   \n",
              "3               Нет опыта     Полная занятость      20000.0    70000.0   \n",
              "4               Нет опыта     Полная занятость      32500.0        NaN   \n",
              "...                   ...                  ...          ...        ...   \n",
              "24068       От 3 до 6 лет     Полная занятость      90000.0   120000.0   \n",
              "24069  От 1 года до 3 лет     Полная занятость     100000.0        NaN   \n",
              "24070  От 1 года до 3 лет  Частичная занятость      14564.0    21845.0   \n",
              "24071       От 3 до 6 лет     Полная занятость     167170.0   222893.0   \n",
              "24072         Более 6 лет     Полная занятость      31809.0    37110.0   \n",
              "\n",
              "       area_id  employer_id  \n",
              "0           92       200522  \n",
              "1           92      1196086  \n",
              "2           92       200522  \n",
              "3           96      1020927  \n",
              "4           98         3776  \n",
              "...        ...          ...  \n",
              "24068       92       909573  \n",
              "24069       76        44573  \n",
              "24070     2760      4326421  \n",
              "24071     2758      5706473  \n",
              "24072     2759      3796695  \n",
              "\n",
              "[24073 rows x 10 columns]"
            ]
          },
          "metadata": {},
          "output_type": "display_data"
        }
      ],
      "source": [
        "result = conn.execute(text(query_4_2)).fetchall()\n",
        "df = pd.DataFrame(result)\n",
        "df.sample(3)\n",
        "display(df)"
      ]
    },
    {
      "cell_type": "markdown",
      "id": "635c4d5d-f323-4c66-b428-50a088120aa0",
      "metadata": {
        "id": "635c4d5d-f323-4c66-b428-50a088120aa0"
      },
      "source": [
        "3. Найдите средние значения для нижней и верхней границы зарплатной вилки. Округлите значения до целого."
      ]
    },
    {
      "cell_type": "code",
      "execution_count": 18,
      "id": "603cdbe4-0ec3-4106-8eaf-c73fcdd29165",
      "metadata": {
        "id": "603cdbe4-0ec3-4106-8eaf-c73fcdd29165"
      },
      "outputs": [],
      "source": [
        "query_4_3 = '''\n",
        "SELECT\n",
        "round(AVG(salary_from)),\n",
        "round(AVG(salary_to))\n",
        "FROM\n",
        "    public.vacancies v\n",
        "'''"
      ]
    },
    {
      "cell_type": "code",
      "execution_count": 19,
      "id": "pswpAb66ovZZ",
      "metadata": {
        "id": "pswpAb66ovZZ"
      },
      "outputs": [
        {
          "data": {
            "text/html": [
              "<div>\n",
              "<style scoped>\n",
              "    .dataframe tbody tr th:only-of-type {\n",
              "        vertical-align: middle;\n",
              "    }\n",
              "\n",
              "    .dataframe tbody tr th {\n",
              "        vertical-align: top;\n",
              "    }\n",
              "\n",
              "    .dataframe thead th {\n",
              "        text-align: right;\n",
              "    }\n",
              "</style>\n",
              "<table border=\"1\" class=\"dataframe\">\n",
              "  <thead>\n",
              "    <tr style=\"text-align: right;\">\n",
              "      <th></th>\n",
              "      <th>round</th>\n",
              "      <th>round</th>\n",
              "    </tr>\n",
              "  </thead>\n",
              "  <tbody>\n",
              "    <tr>\n",
              "      <th>0</th>\n",
              "      <td>71065</td>\n",
              "      <td>110537</td>\n",
              "    </tr>\n",
              "  </tbody>\n",
              "</table>\n",
              "</div>"
            ],
            "text/plain": [
              "   round   round\n",
              "0  71065  110537"
            ]
          },
          "metadata": {},
          "output_type": "display_data"
        }
      ],
      "source": [
        "result = conn.execute(text(query_4_3)).fetchall()\n",
        "df = pd.DataFrame(result)\n",
        "display(df)"
      ]
    },
    {
      "cell_type": "markdown",
      "id": "f3fdaec9-5fd3-4260-9cf5-1d7406b628a5",
      "metadata": {
        "id": "f3fdaec9-5fd3-4260-9cf5-1d7406b628a5"
      },
      "source": [
        "4. Напишите запрос, который выведет количество вакансий для каждого сочетания типа рабочего графика (schedule) и типа трудоустройства (employment), используемого в вакансиях. Результат отсортируйте по убыванию количества.\n"
      ]
    },
    {
      "cell_type": "code",
      "execution_count": 20,
      "id": "1ea710ec-871b-431e-9462-c7d0fd87011b",
      "metadata": {
        "id": "1ea710ec-871b-431e-9462-c7d0fd87011b"
      },
      "outputs": [],
      "source": [
        "query_4_4 = '''\n",
        "SELECT DISTINCT\n",
        "schedule,\n",
        "employment,\n",
        "COUNT(id)\n",
        "FROM\n",
        "    public.vacancies v\n",
        "GROUP BY schedule, employment\n",
        "ORDER BY 3 DESC\n",
        "'''"
      ]
    },
    {
      "cell_type": "code",
      "execution_count": 21,
      "id": "lGUVqavdo4JQ",
      "metadata": {
        "id": "lGUVqavdo4JQ"
      },
      "outputs": [
        {
          "data": {
            "text/html": [
              "<div>\n",
              "<style scoped>\n",
              "    .dataframe tbody tr th:only-of-type {\n",
              "        vertical-align: middle;\n",
              "    }\n",
              "\n",
              "    .dataframe tbody tr th {\n",
              "        vertical-align: top;\n",
              "    }\n",
              "\n",
              "    .dataframe thead th {\n",
              "        text-align: right;\n",
              "    }\n",
              "</style>\n",
              "<table border=\"1\" class=\"dataframe\">\n",
              "  <thead>\n",
              "    <tr style=\"text-align: right;\">\n",
              "      <th></th>\n",
              "      <th>schedule</th>\n",
              "      <th>employment</th>\n",
              "      <th>count</th>\n",
              "    </tr>\n",
              "  </thead>\n",
              "  <tbody>\n",
              "    <tr>\n",
              "      <th>0</th>\n",
              "      <td>Полный день</td>\n",
              "      <td>Полная занятость</td>\n",
              "      <td>35367</td>\n",
              "    </tr>\n",
              "    <tr>\n",
              "      <th>1</th>\n",
              "      <td>Удаленная работа</td>\n",
              "      <td>Полная занятость</td>\n",
              "      <td>7802</td>\n",
              "    </tr>\n",
              "    <tr>\n",
              "      <th>2</th>\n",
              "      <td>Гибкий график</td>\n",
              "      <td>Полная занятость</td>\n",
              "      <td>1593</td>\n",
              "    </tr>\n",
              "    <tr>\n",
              "      <th>3</th>\n",
              "      <td>Удаленная работа</td>\n",
              "      <td>Частичная занятость</td>\n",
              "      <td>1312</td>\n",
              "    </tr>\n",
              "    <tr>\n",
              "      <th>4</th>\n",
              "      <td>Сменный график</td>\n",
              "      <td>Полная занятость</td>\n",
              "      <td>940</td>\n",
              "    </tr>\n",
              "    <tr>\n",
              "      <th>5</th>\n",
              "      <td>Полный день</td>\n",
              "      <td>Стажировка</td>\n",
              "      <td>569</td>\n",
              "    </tr>\n",
              "    <tr>\n",
              "      <th>6</th>\n",
              "      <td>Вахтовый метод</td>\n",
              "      <td>Полная занятость</td>\n",
              "      <td>367</td>\n",
              "    </tr>\n",
              "    <tr>\n",
              "      <th>7</th>\n",
              "      <td>Полный день</td>\n",
              "      <td>Частичная занятость</td>\n",
              "      <td>347</td>\n",
              "    </tr>\n",
              "    <tr>\n",
              "      <th>8</th>\n",
              "      <td>Гибкий график</td>\n",
              "      <td>Частичная занятость</td>\n",
              "      <td>312</td>\n",
              "    </tr>\n",
              "    <tr>\n",
              "      <th>9</th>\n",
              "      <td>Полный день</td>\n",
              "      <td>Проектная работа</td>\n",
              "      <td>141</td>\n",
              "    </tr>\n",
              "    <tr>\n",
              "      <th>10</th>\n",
              "      <td>Удаленная работа</td>\n",
              "      <td>Проектная работа</td>\n",
              "      <td>133</td>\n",
              "    </tr>\n",
              "    <tr>\n",
              "      <th>11</th>\n",
              "      <td>Гибкий график</td>\n",
              "      <td>Стажировка</td>\n",
              "      <td>116</td>\n",
              "    </tr>\n",
              "    <tr>\n",
              "      <th>12</th>\n",
              "      <td>Сменный график</td>\n",
              "      <td>Частичная занятость</td>\n",
              "      <td>101</td>\n",
              "    </tr>\n",
              "    <tr>\n",
              "      <th>13</th>\n",
              "      <td>Удаленная работа</td>\n",
              "      <td>Стажировка</td>\n",
              "      <td>64</td>\n",
              "    </tr>\n",
              "    <tr>\n",
              "      <th>14</th>\n",
              "      <td>Гибкий график</td>\n",
              "      <td>Проектная работа</td>\n",
              "      <td>18</td>\n",
              "    </tr>\n",
              "    <tr>\n",
              "      <th>15</th>\n",
              "      <td>Сменный график</td>\n",
              "      <td>Стажировка</td>\n",
              "      <td>12</td>\n",
              "    </tr>\n",
              "    <tr>\n",
              "      <th>16</th>\n",
              "      <td>Вахтовый метод</td>\n",
              "      <td>Проектная работа</td>\n",
              "      <td>2</td>\n",
              "    </tr>\n",
              "    <tr>\n",
              "      <th>17</th>\n",
              "      <td>Сменный график</td>\n",
              "      <td>Проектная работа</td>\n",
              "      <td>1</td>\n",
              "    </tr>\n",
              "  </tbody>\n",
              "</table>\n",
              "</div>"
            ],
            "text/plain": [
              "            schedule           employment  count\n",
              "0        Полный день     Полная занятость  35367\n",
              "1   Удаленная работа     Полная занятость   7802\n",
              "2      Гибкий график     Полная занятость   1593\n",
              "3   Удаленная работа  Частичная занятость   1312\n",
              "4     Сменный график     Полная занятость    940\n",
              "5        Полный день           Стажировка    569\n",
              "6     Вахтовый метод     Полная занятость    367\n",
              "7        Полный день  Частичная занятость    347\n",
              "8      Гибкий график  Частичная занятость    312\n",
              "9        Полный день     Проектная работа    141\n",
              "10  Удаленная работа     Проектная работа    133\n",
              "11     Гибкий график           Стажировка    116\n",
              "12    Сменный график  Частичная занятость    101\n",
              "13  Удаленная работа           Стажировка     64\n",
              "14     Гибкий график     Проектная работа     18\n",
              "15    Сменный график           Стажировка     12\n",
              "16    Вахтовый метод     Проектная работа      2\n",
              "17    Сменный график     Проектная работа      1"
            ]
          },
          "metadata": {},
          "output_type": "display_data"
        }
      ],
      "source": [
        "result = conn.execute(text(query_4_4)).fetchall()\n",
        "df = pd.DataFrame(result)\n",
        "display(df)"
      ]
    },
    {
      "cell_type": "markdown",
      "id": "0136ffee-0ead-4a6b-b608-61d1c753a438",
      "metadata": {
        "id": "0136ffee-0ead-4a6b-b608-61d1c753a438"
      },
      "source": [
        "5. Напишите запрос, выводящий значения поля Требуемый опыт работы (experience) в порядке возрастания количества вакансий, в которых указан данный вариант опыта. "
      ]
    },
    {
      "cell_type": "code",
      "execution_count": 22,
      "id": "5b3a8e79-f7ab-4008-b767-12aea3a205ea",
      "metadata": {
        "id": "5b3a8e79-f7ab-4008-b767-12aea3a205ea"
      },
      "outputs": [],
      "source": [
        "query_4_5 = '''\n",
        "SELECT \n",
        "DISTINCT(experience),\n",
        "COUNT(id)\n",
        "FROM\n",
        "    public.vacancies v\n",
        "GROUP BY experience\n",
        "ORDER BY 2 ASC\n",
        "'''"
      ]
    },
    {
      "cell_type": "code",
      "execution_count": 23,
      "id": "3Is64Y-hpDpq",
      "metadata": {
        "id": "3Is64Y-hpDpq"
      },
      "outputs": [
        {
          "data": {
            "text/html": [
              "<div>\n",
              "<style scoped>\n",
              "    .dataframe tbody tr th:only-of-type {\n",
              "        vertical-align: middle;\n",
              "    }\n",
              "\n",
              "    .dataframe tbody tr th {\n",
              "        vertical-align: top;\n",
              "    }\n",
              "\n",
              "    .dataframe thead th {\n",
              "        text-align: right;\n",
              "    }\n",
              "</style>\n",
              "<table border=\"1\" class=\"dataframe\">\n",
              "  <thead>\n",
              "    <tr style=\"text-align: right;\">\n",
              "      <th></th>\n",
              "      <th>experience</th>\n",
              "      <th>count</th>\n",
              "    </tr>\n",
              "  </thead>\n",
              "  <tbody>\n",
              "    <tr>\n",
              "      <th>0</th>\n",
              "      <td>Более 6 лет</td>\n",
              "      <td>1337</td>\n",
              "    </tr>\n",
              "    <tr>\n",
              "      <th>1</th>\n",
              "      <td>Нет опыта</td>\n",
              "      <td>7197</td>\n",
              "    </tr>\n",
              "    <tr>\n",
              "      <th>2</th>\n",
              "      <td>От 3 до 6 лет</td>\n",
              "      <td>14511</td>\n",
              "    </tr>\n",
              "    <tr>\n",
              "      <th>3</th>\n",
              "      <td>От 1 года до 3 лет</td>\n",
              "      <td>26152</td>\n",
              "    </tr>\n",
              "  </tbody>\n",
              "</table>\n",
              "</div>"
            ],
            "text/plain": [
              "           experience  count\n",
              "0         Более 6 лет   1337\n",
              "1           Нет опыта   7197\n",
              "2       От 3 до 6 лет  14511\n",
              "3  От 1 года до 3 лет  26152"
            ]
          },
          "metadata": {},
          "output_type": "display_data"
        }
      ],
      "source": [
        "result = conn.execute(text(query_4_5)).fetchall()\n",
        "df = pd.DataFrame(result)\n",
        "display(df)"
      ]
    },
    {
      "cell_type": "markdown",
      "id": "oq2b7n1QpIka",
      "metadata": {
        "id": "oq2b7n1QpIka"
      },
      "source": [
        "***"
      ]
    },
    {
      "cell_type": "code",
      "execution_count": 24,
      "id": "e91f87ed-e25c-4f96-9f92-b642e8c0b4fa",
      "metadata": {
        "id": "e91f87ed-e25c-4f96-9f92-b642e8c0b4fa"
      },
      "outputs": [],
      "source": [
        "# Больше всего вакансий для новичков (1-3 года работы), а более опытные сотрудники требуются в меньшем количестве. Хоть и удаленная работа и занимает 2 место, но чаще всего работодатели предлагают работу в офисе (Полный день - видимо это означает)."
      ]
    },
    {
      "cell_type": "markdown",
      "id": "7ea20ab6-04a7-40a0-adec-443a0e5a42c3",
      "metadata": {
        "id": "7ea20ab6-04a7-40a0-adec-443a0e5a42c3"
      },
      "source": [
        "# Юнит 5. Анализ работодателей"
      ]
    },
    {
      "cell_type": "markdown",
      "id": "968aed80-74ef-4ffb-b5bf-c65b84e9caea",
      "metadata": {
        "id": "968aed80-74ef-4ffb-b5bf-c65b84e9caea"
      },
      "source": [
        "1. Напишите запрос, который позволит узнать, какие работодатели находятся на первом и пятом месте по количеству вакансий."
      ]
    },
    {
      "cell_type": "code",
      "execution_count": 25,
      "id": "f2d62796-d400-4ec1-a675-88112739a50e",
      "metadata": {
        "id": "f2d62796-d400-4ec1-a675-88112739a50e"
      },
      "outputs": [],
      "source": [
        "query_5_1 = '''\n",
        "select\n",
        "e.name,\n",
        "COUNT(v.id)\n",
        "FROM public.vacancies v\n",
        "JOIN public.EMPLOYERS e ON v.employer_id = e.id\n",
        "GROUP BY e.name\n",
        "ORDER BY 2 DESC\n",
        "LIMIT 5\n",
        "'''"
      ]
    },
    {
      "cell_type": "code",
      "execution_count": 26,
      "id": "64tOMkAxqkQk",
      "metadata": {
        "id": "64tOMkAxqkQk"
      },
      "outputs": [
        {
          "data": {
            "text/html": [
              "<div>\n",
              "<style scoped>\n",
              "    .dataframe tbody tr th:only-of-type {\n",
              "        vertical-align: middle;\n",
              "    }\n",
              "\n",
              "    .dataframe tbody tr th {\n",
              "        vertical-align: top;\n",
              "    }\n",
              "\n",
              "    .dataframe thead th {\n",
              "        text-align: right;\n",
              "    }\n",
              "</style>\n",
              "<table border=\"1\" class=\"dataframe\">\n",
              "  <thead>\n",
              "    <tr style=\"text-align: right;\">\n",
              "      <th></th>\n",
              "      <th>name</th>\n",
              "      <th>count</th>\n",
              "    </tr>\n",
              "  </thead>\n",
              "  <tbody>\n",
              "    <tr>\n",
              "      <th>0</th>\n",
              "      <td>Яндекс</td>\n",
              "      <td>1933</td>\n",
              "    </tr>\n",
              "    <tr>\n",
              "      <th>1</th>\n",
              "      <td>Ростелеком</td>\n",
              "      <td>491</td>\n",
              "    </tr>\n",
              "    <tr>\n",
              "      <th>2</th>\n",
              "      <td>Тинькофф</td>\n",
              "      <td>444</td>\n",
              "    </tr>\n",
              "    <tr>\n",
              "      <th>3</th>\n",
              "      <td>СБЕР</td>\n",
              "      <td>428</td>\n",
              "    </tr>\n",
              "    <tr>\n",
              "      <th>4</th>\n",
              "      <td>Газпром нефть</td>\n",
              "      <td>331</td>\n",
              "    </tr>\n",
              "  </tbody>\n",
              "</table>\n",
              "</div>"
            ],
            "text/plain": [
              "            name  count\n",
              "0         Яндекс   1933\n",
              "1     Ростелеком    491\n",
              "2       Тинькофф    444\n",
              "3           СБЕР    428\n",
              "4  Газпром нефть    331"
            ]
          },
          "metadata": {},
          "output_type": "display_data"
        }
      ],
      "source": [
        "result = conn.execute(text(query_5_1)).fetchall()\n",
        "df = pd.DataFrame(result)\n",
        "display(df)"
      ]
    },
    {
      "cell_type": "markdown",
      "id": "68377cfc-b378-43dc-ab7d-1195abf2c515",
      "metadata": {
        "id": "68377cfc-b378-43dc-ab7d-1195abf2c515"
      },
      "source": [
        "2. Напишите запрос, который для каждого региона выведет количество работодателей и вакансий в нём.\n",
        "Среди регионов, в которых нет вакансий, найдите тот, в котором наибольшее количество работодателей.\n"
      ]
    },
    {
      "cell_type": "code",
      "execution_count": 58,
      "id": "dd7df27a-e3e8-412e-a21a-5d389b71e891",
      "metadata": {
        "id": "dd7df27a-e3e8-412e-a21a-5d389b71e891"
      },
      "outputs": [],
      "source": [
        "query_5_2 = '''\n",
        "select\n",
        "a.name,\n",
        "COUNT(v.id) as total_vacancies,\n",
        "COUNT(e.id) as total_employers\n",
        "FROM areas a\n",
        "left join employers e ON a.id = e.area\n",
        "left join VACANCIES v ON a.id = v.area_id\n",
        "where v.id is null\n",
        "GROUP BY a.name\n",
        "ORDER BY 3 DESC\n",
        "'''"
      ]
    },
    {
      "cell_type": "code",
      "execution_count": 59,
      "id": "x1ikWbydrbf6",
      "metadata": {
        "id": "x1ikWbydrbf6"
      },
      "outputs": [
        {
          "data": {
            "text/html": [
              "<div>\n",
              "<style scoped>\n",
              "    .dataframe tbody tr th:only-of-type {\n",
              "        vertical-align: middle;\n",
              "    }\n",
              "\n",
              "    .dataframe tbody tr th {\n",
              "        vertical-align: top;\n",
              "    }\n",
              "\n",
              "    .dataframe thead th {\n",
              "        text-align: right;\n",
              "    }\n",
              "</style>\n",
              "<table border=\"1\" class=\"dataframe\">\n",
              "  <thead>\n",
              "    <tr style=\"text-align: right;\">\n",
              "      <th></th>\n",
              "      <th>name</th>\n",
              "      <th>total_vacancies</th>\n",
              "      <th>total_employers</th>\n",
              "    </tr>\n",
              "  </thead>\n",
              "  <tbody>\n",
              "    <tr>\n",
              "      <th>0</th>\n",
              "      <td>Россия</td>\n",
              "      <td>0</td>\n",
              "      <td>410</td>\n",
              "    </tr>\n",
              "    <tr>\n",
              "      <th>1</th>\n",
              "      <td>Казахстан</td>\n",
              "      <td>0</td>\n",
              "      <td>207</td>\n",
              "    </tr>\n",
              "    <tr>\n",
              "      <th>2</th>\n",
              "      <td>Московская область</td>\n",
              "      <td>0</td>\n",
              "      <td>75</td>\n",
              "    </tr>\n",
              "    <tr>\n",
              "      <th>3</th>\n",
              "      <td>Краснодарский край</td>\n",
              "      <td>0</td>\n",
              "      <td>19</td>\n",
              "    </tr>\n",
              "    <tr>\n",
              "      <th>4</th>\n",
              "      <td>Беларусь</td>\n",
              "      <td>0</td>\n",
              "      <td>18</td>\n",
              "    </tr>\n",
              "    <tr>\n",
              "      <th>...</th>\n",
              "      <td>...</td>\n",
              "      <td>...</td>\n",
              "      <td>...</td>\n",
              "    </tr>\n",
              "    <tr>\n",
              "      <th>588</th>\n",
              "      <td>Кувандык</td>\n",
              "      <td>0</td>\n",
              "      <td>0</td>\n",
              "    </tr>\n",
              "    <tr>\n",
              "      <th>589</th>\n",
              "      <td>Куйбышев</td>\n",
              "      <td>0</td>\n",
              "      <td>0</td>\n",
              "    </tr>\n",
              "    <tr>\n",
              "      <th>590</th>\n",
              "      <td>Куйбышево (Ростовская область)</td>\n",
              "      <td>0</td>\n",
              "      <td>0</td>\n",
              "    </tr>\n",
              "    <tr>\n",
              "      <th>591</th>\n",
              "      <td>Култаево</td>\n",
              "      <td>0</td>\n",
              "      <td>0</td>\n",
              "    </tr>\n",
              "    <tr>\n",
              "      <th>592</th>\n",
              "      <td>Кульсары</td>\n",
              "      <td>0</td>\n",
              "      <td>0</td>\n",
              "    </tr>\n",
              "  </tbody>\n",
              "</table>\n",
              "<p>593 rows × 3 columns</p>\n",
              "</div>"
            ],
            "text/plain": [
              "                               name  total_vacancies  total_employers\n",
              "0                            Россия                0              410\n",
              "1                         Казахстан                0              207\n",
              "2                Московская область                0               75\n",
              "3                Краснодарский край                0               19\n",
              "4                          Беларусь                0               18\n",
              "..                              ...              ...              ...\n",
              "588                        Кувандык                0                0\n",
              "589                        Куйбышев                0                0\n",
              "590  Куйбышево (Ростовская область)                0                0\n",
              "591                        Култаево                0                0\n",
              "592                        Кульсары                0                0\n",
              "\n",
              "[593 rows x 3 columns]"
            ]
          },
          "metadata": {},
          "output_type": "display_data"
        }
      ],
      "source": [
        "result = conn.execute(text(query_5_2)).fetchall()\n",
        "df = pd.DataFrame(result)\n",
        "display(df)"
      ]
    },
    {
      "cell_type": "markdown",
      "id": "f2fe0acb-ab1a-4e15-9326-2560e22d73c1",
      "metadata": {
        "id": "f2fe0acb-ab1a-4e15-9326-2560e22d73c1"
      },
      "source": [
        "3. Для каждого работодателя посчитайте количество регионов, в которых он публикует свои вакансии. Отсортируйте результат по убыванию количества.\n"
      ]
    },
    {
      "cell_type": "code",
      "execution_count": 63,
      "id": "6271f8ad-bd2e-4196-ae4a-5b39c4c1010e",
      "metadata": {
        "id": "6271f8ad-bd2e-4196-ae4a-5b39c4c1010e"
      },
      "outputs": [],
      "source": [
        "query_5_3 = '''\n",
        "select \n",
        "e.name,\n",
        "COUNT(DISTINCT v.area_id)\n",
        "FROM employers e\n",
        "left join vacancies v ON e.id = v.employer_id\n",
        "GROUP BY e.name\n",
        "ORDER BY 2 desc\n",
        "'''"
      ]
    },
    {
      "cell_type": "code",
      "execution_count": 64,
      "id": "1EIvX3HasH4F",
      "metadata": {
        "id": "1EIvX3HasH4F"
      },
      "outputs": [
        {
          "data": {
            "text/html": [
              "<div>\n",
              "<style scoped>\n",
              "    .dataframe tbody tr th:only-of-type {\n",
              "        vertical-align: middle;\n",
              "    }\n",
              "\n",
              "    .dataframe tbody tr th {\n",
              "        vertical-align: top;\n",
              "    }\n",
              "\n",
              "    .dataframe thead th {\n",
              "        text-align: right;\n",
              "    }\n",
              "</style>\n",
              "<table border=\"1\" class=\"dataframe\">\n",
              "  <thead>\n",
              "    <tr style=\"text-align: right;\">\n",
              "      <th></th>\n",
              "      <th>name</th>\n",
              "      <th>count</th>\n",
              "    </tr>\n",
              "  </thead>\n",
              "  <tbody>\n",
              "    <tr>\n",
              "      <th>0</th>\n",
              "      <td>Яндекс</td>\n",
              "      <td>181</td>\n",
              "    </tr>\n",
              "    <tr>\n",
              "      <th>1</th>\n",
              "      <td>Ростелеком</td>\n",
              "      <td>152</td>\n",
              "    </tr>\n",
              "    <tr>\n",
              "      <th>2</th>\n",
              "      <td>Спецремонт</td>\n",
              "      <td>116</td>\n",
              "    </tr>\n",
              "    <tr>\n",
              "      <th>3</th>\n",
              "      <td>Поляков Денис Иванович</td>\n",
              "      <td>88</td>\n",
              "    </tr>\n",
              "    <tr>\n",
              "      <th>4</th>\n",
              "      <td>ООО ЕФИН</td>\n",
              "      <td>71</td>\n",
              "    </tr>\n",
              "    <tr>\n",
              "      <th>...</th>\n",
              "      <td>...</td>\n",
              "      <td>...</td>\n",
              "    </tr>\n",
              "    <tr>\n",
              "      <th>23170</th>\n",
              "      <td>СДЕЛКА</td>\n",
              "      <td>0</td>\n",
              "    </tr>\n",
              "    <tr>\n",
              "      <th>23171</th>\n",
              "      <td>Alandr Group</td>\n",
              "      <td>0</td>\n",
              "    </tr>\n",
              "    <tr>\n",
              "      <th>23172</th>\n",
              "      <td>СДК</td>\n",
              "      <td>0</td>\n",
              "    </tr>\n",
              "    <tr>\n",
              "      <th>23173</th>\n",
              "      <td>Lemon Land Lombard</td>\n",
              "      <td>0</td>\n",
              "    </tr>\n",
              "    <tr>\n",
              "      <th>23174</th>\n",
              "      <td>Махина</td>\n",
              "      <td>0</td>\n",
              "    </tr>\n",
              "  </tbody>\n",
              "</table>\n",
              "<p>23175 rows × 2 columns</p>\n",
              "</div>"
            ],
            "text/plain": [
              "                         name  count\n",
              "0                      Яндекс    181\n",
              "1                  Ростелеком    152\n",
              "2                  Спецремонт    116\n",
              "3      Поляков Денис Иванович     88\n",
              "4                   ООО ЕФИН      71\n",
              "...                       ...    ...\n",
              "23170                  СДЕЛКА      0\n",
              "23171            Alandr Group      0\n",
              "23172                     СДК      0\n",
              "23173      Lemon Land Lombard      0\n",
              "23174                  Махина      0\n",
              "\n",
              "[23175 rows x 2 columns]"
            ]
          },
          "metadata": {},
          "output_type": "display_data"
        }
      ],
      "source": [
        "result = conn.execute(text(query_5_3)).fetchall()\n",
        "df = pd.DataFrame(result)\n",
        "display(df)"
      ]
    },
    {
      "cell_type": "markdown",
      "id": "eab2206d-d95b-468b-8e5f-34381abf0ce7",
      "metadata": {
        "id": "eab2206d-d95b-468b-8e5f-34381abf0ce7"
      },
      "source": [
        "4. Напишите запрос для подсчёта количества работодателей, у которых не указана сфера деятельности. "
      ]
    },
    {
      "cell_type": "code",
      "execution_count": 65,
      "id": "80defb23-bfb1-4a18-8be6-bf36aa7165d5",
      "metadata": {
        "id": "80defb23-bfb1-4a18-8be6-bf36aa7165d5"
      },
      "outputs": [],
      "source": [
        "query_5_4 = '''\n",
        "select \n",
        "COUNT(e.id)\n",
        "FROM employers e\n",
        "left join EMPLOYERS_INDUSTRIES e_i ON e.id = e_i.employer_id\n",
        "WHERE e_i.industry_id is null\n",
        "'''"
      ]
    },
    {
      "cell_type": "code",
      "execution_count": 66,
      "id": "Dp_yCx6ysQSu",
      "metadata": {
        "id": "Dp_yCx6ysQSu"
      },
      "outputs": [
        {
          "data": {
            "text/html": [
              "<div>\n",
              "<style scoped>\n",
              "    .dataframe tbody tr th:only-of-type {\n",
              "        vertical-align: middle;\n",
              "    }\n",
              "\n",
              "    .dataframe tbody tr th {\n",
              "        vertical-align: top;\n",
              "    }\n",
              "\n",
              "    .dataframe thead th {\n",
              "        text-align: right;\n",
              "    }\n",
              "</style>\n",
              "<table border=\"1\" class=\"dataframe\">\n",
              "  <thead>\n",
              "    <tr style=\"text-align: right;\">\n",
              "      <th></th>\n",
              "      <th>count</th>\n",
              "    </tr>\n",
              "  </thead>\n",
              "  <tbody>\n",
              "    <tr>\n",
              "      <th>0</th>\n",
              "      <td>8419</td>\n",
              "    </tr>\n",
              "  </tbody>\n",
              "</table>\n",
              "</div>"
            ],
            "text/plain": [
              "   count\n",
              "0   8419"
            ]
          },
          "metadata": {},
          "output_type": "display_data"
        }
      ],
      "source": [
        "result = conn.execute(text(query_5_4)).fetchall()\n",
        "df = pd.DataFrame(result)\n",
        "display(df)"
      ]
    },
    {
      "cell_type": "markdown",
      "id": "0112af31-f6b0-4e3b-82ab-71296e752e5e",
      "metadata": {
        "id": "0112af31-f6b0-4e3b-82ab-71296e752e5e"
      },
      "source": [
        "5. Напишите запрос, чтобы узнать название компании, находящейся на третьем месте в алфавитном списке (по названию) компаний, у которых указано четыре сферы деятельности. "
      ]
    },
    {
      "cell_type": "code",
      "execution_count": 70,
      "id": "973b0cfc-a972-470a-8b4a-68744ef220c4",
      "metadata": {
        "id": "973b0cfc-a972-470a-8b4a-68744ef220c4"
      },
      "outputs": [],
      "source": [
        "query_5_5 = '''\n",
        "select \n",
        "e.name,\n",
        "COUNT(e.id)\n",
        "FROM employers e\n",
        "left join EMPLOYERS_INDUSTRIES e_i ON e.id = e_i.employer_id\n",
        "GROUP BY e.name\n",
        "HAVING COUNT(e.id) = 4\n",
        "ORDER BY 1\n",
        "'''"
      ]
    },
    {
      "cell_type": "code",
      "execution_count": 71,
      "id": "xsPtpp8EsaED",
      "metadata": {
        "id": "xsPtpp8EsaED"
      },
      "outputs": [
        {
          "data": {
            "text/html": [
              "<div>\n",
              "<style scoped>\n",
              "    .dataframe tbody tr th:only-of-type {\n",
              "        vertical-align: middle;\n",
              "    }\n",
              "\n",
              "    .dataframe tbody tr th {\n",
              "        vertical-align: top;\n",
              "    }\n",
              "\n",
              "    .dataframe thead th {\n",
              "        text-align: right;\n",
              "    }\n",
              "</style>\n",
              "<table border=\"1\" class=\"dataframe\">\n",
              "  <thead>\n",
              "    <tr style=\"text-align: right;\">\n",
              "      <th></th>\n",
              "      <th>name</th>\n",
              "      <th>count</th>\n",
              "    </tr>\n",
              "  </thead>\n",
              "  <tbody>\n",
              "    <tr>\n",
              "      <th>0</th>\n",
              "      <td>101 Интернет</td>\n",
              "      <td>4</td>\n",
              "    </tr>\n",
              "    <tr>\n",
              "      <th>1</th>\n",
              "      <td>21vek.by</td>\n",
              "      <td>4</td>\n",
              "    </tr>\n",
              "    <tr>\n",
              "      <th>2</th>\n",
              "      <td>2ГИС</td>\n",
              "      <td>4</td>\n",
              "    </tr>\n",
              "    <tr>\n",
              "      <th>3</th>\n",
              "      <td>2К</td>\n",
              "      <td>4</td>\n",
              "    </tr>\n",
              "    <tr>\n",
              "      <th>4</th>\n",
              "      <td>4 пикселя +</td>\n",
              "      <td>4</td>\n",
              "    </tr>\n",
              "    <tr>\n",
              "      <th>...</th>\n",
              "      <td>...</td>\n",
              "      <td>...</td>\n",
              "    </tr>\n",
              "    <tr>\n",
              "      <th>1136</th>\n",
              "      <td>ЮРИОН</td>\n",
              "      <td>4</td>\n",
              "    </tr>\n",
              "    <tr>\n",
              "      <th>1137</th>\n",
              "      <td>ЮТИП Технологии</td>\n",
              "      <td>4</td>\n",
              "    </tr>\n",
              "    <tr>\n",
              "      <th>1138</th>\n",
              "      <td>ЯКласс</td>\n",
              "      <td>4</td>\n",
              "    </tr>\n",
              "    <tr>\n",
              "      <th>1139</th>\n",
              "      <td>ЯрНео</td>\n",
              "      <td>4</td>\n",
              "    </tr>\n",
              "    <tr>\n",
              "      <th>1140</th>\n",
              "      <td>Яшин&amp;Партнёры</td>\n",
              "      <td>4</td>\n",
              "    </tr>\n",
              "  </tbody>\n",
              "</table>\n",
              "<p>1141 rows × 2 columns</p>\n",
              "</div>"
            ],
            "text/plain": [
              "                 name  count\n",
              "0        101 Интернет      4\n",
              "1            21vek.by      4\n",
              "2                2ГИС      4\n",
              "3                  2К      4\n",
              "4         4 пикселя +      4\n",
              "...               ...    ...\n",
              "1136            ЮРИОН      4\n",
              "1137  ЮТИП Технологии      4\n",
              "1138           ЯКласс      4\n",
              "1139            ЯрНео      4\n",
              "1140    Яшин&Партнёры      4\n",
              "\n",
              "[1141 rows x 2 columns]"
            ]
          },
          "metadata": {},
          "output_type": "display_data"
        }
      ],
      "source": [
        "result = conn.execute(text(query_5_5)).fetchall()\n",
        "df = pd.DataFrame(result)\n",
        "display(df)"
      ]
    },
    {
      "cell_type": "markdown",
      "id": "3bfcfdaf-755d-4d2b-8ed8-326201dc07ab",
      "metadata": {
        "id": "3bfcfdaf-755d-4d2b-8ed8-326201dc07ab"
      },
      "source": [
        "6. С помощью запроса выясните, у какого количества работодателей в качестве сферы деятельности указана Разработка программного обеспечения.\n"
      ]
    },
    {
      "cell_type": "code",
      "execution_count": 72,
      "id": "ad3f270f-2991-47eb-929b-e8f88a55b0d1",
      "metadata": {
        "id": "ad3f270f-2991-47eb-929b-e8f88a55b0d1"
      },
      "outputs": [],
      "source": [
        "query_5_6 = '''\n",
        "select\n",
        "i.name,\n",
        "COUNT(e_i.employer_id)\n",
        "FROM EMPLOYERS_INDUSTRIES e_i\n",
        "JOIN INDUSTRIES i ON e_i.industry_id = i.id\n",
        "GROUP BY i.name\n",
        "HAVING i.name = 'Разработка программного обеспечения'\n",
        "'''"
      ]
    },
    {
      "cell_type": "code",
      "execution_count": 73,
      "id": "H72qxWM0shPR",
      "metadata": {
        "id": "H72qxWM0shPR"
      },
      "outputs": [
        {
          "data": {
            "text/html": [
              "<div>\n",
              "<style scoped>\n",
              "    .dataframe tbody tr th:only-of-type {\n",
              "        vertical-align: middle;\n",
              "    }\n",
              "\n",
              "    .dataframe tbody tr th {\n",
              "        vertical-align: top;\n",
              "    }\n",
              "\n",
              "    .dataframe thead th {\n",
              "        text-align: right;\n",
              "    }\n",
              "</style>\n",
              "<table border=\"1\" class=\"dataframe\">\n",
              "  <thead>\n",
              "    <tr style=\"text-align: right;\">\n",
              "      <th></th>\n",
              "      <th>name</th>\n",
              "      <th>count</th>\n",
              "    </tr>\n",
              "  </thead>\n",
              "  <tbody>\n",
              "    <tr>\n",
              "      <th>0</th>\n",
              "      <td>Разработка программного обеспечения</td>\n",
              "      <td>3553</td>\n",
              "    </tr>\n",
              "  </tbody>\n",
              "</table>\n",
              "</div>"
            ],
            "text/plain": [
              "                                  name  count\n",
              "0  Разработка программного обеспечения   3553"
            ]
          },
          "metadata": {},
          "output_type": "display_data"
        }
      ],
      "source": [
        "result = conn.execute(text(query_5_6)).fetchall()\n",
        "df = pd.DataFrame(result)\n",
        "display(df)"
      ]
    },
    {
      "cell_type": "markdown",
      "id": "7b02bb86-0546-40fb-94a4-242f050a5c57",
      "metadata": {
        "id": "7b02bb86-0546-40fb-94a4-242f050a5c57"
      },
      "source": [
        "7. Для компании «Яндекс» выведите список регионов-миллионников, в которых представлены вакансии компании, вместе с количеством вакансий в этих регионах. Также добавьте строку Total с общим количеством вакансий компании. Результат отсортируйте по возрастанию количества.\n",
        "\n",
        "Список городов-милионников надо взять [отсюда](https://ru.wikipedia.org/wiki/%D0%93%D0%BE%D1%80%D0%BE%D0%B4%D0%B0-%D0%BC%D0%B8%D0%BB%D0%BB%D0%B8%D0%BE%D0%BD%D0%B5%D1%80%D1%8B_%D0%A0%D0%BE%D1%81%D1%81%D0%B8%D0%B8). \n",
        "\n",
        "Если возникнут трудности с этим задание посмотрите материалы модуля  PYTHON-17. Как получать данные из веб-источников и API. "
      ]
    },
    {
      "cell_type": "code",
      "execution_count": 80,
      "id": "ZdfrL6gIs1Pn",
      "metadata": {
        "id": "ZdfrL6gIs1Pn"
      },
      "outputs": [],
      "source": [
        "big_city = (\n",
        "    \"Москва\", \"Санкт-Петербург\", \"Новосибирск\", \n",
        "    \"Екатеринбург\", \"Казань\", \"Нижний Новгород\", \n",
        "    \"Красноярск\", \"Челябинск\", \"Самара\", \"Уфа\", \n",
        "    \"Ростов-на-Дону\", \"Омск\", \"Краснодар\", \n",
        "    \"Воронеж\", \"Пермь\", \"Волгоград\"\n",
        ")\n",
        "# код запроса представляет из себя строковую переменную"
      ]
    },
    {
      "cell_type": "code",
      "execution_count": 81,
      "id": "5a0e32a4-e68a-4365-8a39-2fe24c542c36",
      "metadata": {
        "id": "5a0e32a4-e68a-4365-8a39-2fe24c542c36"
      },
      "outputs": [],
      "source": [
        "query_5_7 = f'''(SELECT \n",
        "                a.name,\n",
        "                count(*) cnt\n",
        "         from employers e\n",
        "         join vacancies v on e.id = v.employer_id\n",
        "         join areas a on a.id = v.area_id\n",
        "            WHERE e.name = 'Яндекс' and a.name in {big_city}\n",
        "            GROUP BY a.id\n",
        "            ORDER BY 2 ASC)\n",
        "            \n",
        "            UNION ALL \n",
        "\n",
        "            (SELECT \n",
        "                'TOTAL',\n",
        "                COUNT (*) \"Общ кол-во вакансий в городах-миллионниках\"\n",
        "            FROM public.vacancies v\n",
        "                JOIN public.employers e ON e.id = v.employer_id\n",
        "                JOIN public.areas a ON a.id = v.area_id\n",
        "            WHERE e.name = 'Яндекс' and a.name in {big_city})            \n",
        "           \n",
        "        ''' "
      ]
    },
    {
      "cell_type": "code",
      "execution_count": 82,
      "id": "ttPhiO1rsvPq",
      "metadata": {
        "id": "ttPhiO1rsvPq"
      },
      "outputs": [
        {
          "data": {
            "text/html": [
              "<div>\n",
              "<style scoped>\n",
              "    .dataframe tbody tr th:only-of-type {\n",
              "        vertical-align: middle;\n",
              "    }\n",
              "\n",
              "    .dataframe tbody tr th {\n",
              "        vertical-align: top;\n",
              "    }\n",
              "\n",
              "    .dataframe thead th {\n",
              "        text-align: right;\n",
              "    }\n",
              "</style>\n",
              "<table border=\"1\" class=\"dataframe\">\n",
              "  <thead>\n",
              "    <tr style=\"text-align: right;\">\n",
              "      <th></th>\n",
              "      <th>name</th>\n",
              "      <th>cnt</th>\n",
              "    </tr>\n",
              "  </thead>\n",
              "  <tbody>\n",
              "    <tr>\n",
              "      <th>0</th>\n",
              "      <td>TOTAL</td>\n",
              "      <td>485</td>\n",
              "    </tr>\n",
              "    <tr>\n",
              "      <th>1</th>\n",
              "      <td>Омск</td>\n",
              "      <td>21</td>\n",
              "    </tr>\n",
              "    <tr>\n",
              "      <th>2</th>\n",
              "      <td>Челябинск</td>\n",
              "      <td>22</td>\n",
              "    </tr>\n",
              "    <tr>\n",
              "      <th>3</th>\n",
              "      <td>Красноярск</td>\n",
              "      <td>23</td>\n",
              "    </tr>\n",
              "    <tr>\n",
              "      <th>4</th>\n",
              "      <td>Волгоград</td>\n",
              "      <td>24</td>\n",
              "    </tr>\n",
              "    <tr>\n",
              "      <th>5</th>\n",
              "      <td>Ростов-на-Дону</td>\n",
              "      <td>25</td>\n",
              "    </tr>\n",
              "    <tr>\n",
              "      <th>6</th>\n",
              "      <td>Казань</td>\n",
              "      <td>25</td>\n",
              "    </tr>\n",
              "    <tr>\n",
              "      <th>7</th>\n",
              "      <td>Пермь</td>\n",
              "      <td>25</td>\n",
              "    </tr>\n",
              "    <tr>\n",
              "      <th>8</th>\n",
              "      <td>Самара</td>\n",
              "      <td>26</td>\n",
              "    </tr>\n",
              "    <tr>\n",
              "      <th>9</th>\n",
              "      <td>Уфа</td>\n",
              "      <td>26</td>\n",
              "    </tr>\n",
              "    <tr>\n",
              "      <th>10</th>\n",
              "      <td>Краснодар</td>\n",
              "      <td>30</td>\n",
              "    </tr>\n",
              "    <tr>\n",
              "      <th>11</th>\n",
              "      <td>Воронеж</td>\n",
              "      <td>32</td>\n",
              "    </tr>\n",
              "    <tr>\n",
              "      <th>12</th>\n",
              "      <td>Новосибирск</td>\n",
              "      <td>35</td>\n",
              "    </tr>\n",
              "    <tr>\n",
              "      <th>13</th>\n",
              "      <td>Нижний Новгород</td>\n",
              "      <td>36</td>\n",
              "    </tr>\n",
              "    <tr>\n",
              "      <th>14</th>\n",
              "      <td>Екатеринбург</td>\n",
              "      <td>39</td>\n",
              "    </tr>\n",
              "    <tr>\n",
              "      <th>15</th>\n",
              "      <td>Санкт-Петербург</td>\n",
              "      <td>42</td>\n",
              "    </tr>\n",
              "    <tr>\n",
              "      <th>16</th>\n",
              "      <td>Москва</td>\n",
              "      <td>54</td>\n",
              "    </tr>\n",
              "  </tbody>\n",
              "</table>\n",
              "</div>"
            ],
            "text/plain": [
              "               name  cnt\n",
              "0             TOTAL  485\n",
              "1              Омск   21\n",
              "2         Челябинск   22\n",
              "3        Красноярск   23\n",
              "4         Волгоград   24\n",
              "5    Ростов-на-Дону   25\n",
              "6            Казань   25\n",
              "7             Пермь   25\n",
              "8            Самара   26\n",
              "9               Уфа   26\n",
              "10        Краснодар   30\n",
              "11          Воронеж   32\n",
              "12      Новосибирск   35\n",
              "13  Нижний Новгород   36\n",
              "14     Екатеринбург   39\n",
              "15  Санкт-Петербург   42\n",
              "16           Москва   54"
            ]
          },
          "metadata": {},
          "output_type": "display_data"
        }
      ],
      "source": [
        "result = conn.execute(text(query_5_7)).fetchall()\n",
        "df = pd.DataFrame(result)\n",
        "display(df)"
      ]
    },
    {
      "cell_type": "markdown",
      "id": "04966e40-3bc3-4dc8-9ba2-e80580ce3abc",
      "metadata": {
        "id": "04966e40-3bc3-4dc8-9ba2-e80580ce3abc"
      },
      "source": [
        "***"
      ]
    },
    {
      "cell_type": "code",
      "execution_count": 40,
      "id": "aGGyER-yt4SR",
      "metadata": {
        "id": "aGGyER-yt4SR"
      },
      "outputs": [],
      "source": [
        "# В HH.ru больше всего вакансий от it-компаний (Яндекс). Причем Яндекс нанимает без привязки к офису (удаленная работа)."
      ]
    },
    {
      "cell_type": "markdown",
      "id": "b1ef156a-efcb-49ce-bb23-90763e7f35b2",
      "metadata": {
        "id": "b1ef156a-efcb-49ce-bb23-90763e7f35b2",
        "tags": []
      },
      "source": [
        "# Юнит 6. Предметный анализ"
      ]
    },
    {
      "cell_type": "markdown",
      "id": "b9cd50a0-992d-4988-8463-2b2b1c4629b4",
      "metadata": {
        "id": "b9cd50a0-992d-4988-8463-2b2b1c4629b4"
      },
      "source": [
        "1. Сколько вакансий имеет отношение к данным?\n",
        "\n",
        "Считаем, что вакансия имеет отношение к данным, если в её названии содержатся слова 'data' или 'данн'.\n",
        "\n",
        "*Подсказка: Обратите внимание, что названия вакансий могут быть написаны в любом регистре.* \n"
      ]
    },
    {
      "cell_type": "code",
      "execution_count": 87,
      "id": "54ab0e50-c0f1-47cc-a54b-bc5c8bc363f9",
      "metadata": {
        "id": "54ab0e50-c0f1-47cc-a54b-bc5c8bc363f9"
      },
      "outputs": [],
      "source": [
        "query_6_1 = '''\n",
        "select\n",
        "count (*) as data_vacansies\n",
        "from public.vacancies v \n",
        "where v.name ILIKE '%data%' OR v.name ILIKE '%данн%' OR v.name ILIKE '%Data%' OR v.name ILIKE '%Данн%'\n",
        "'''"
      ]
    },
    {
      "cell_type": "code",
      "execution_count": 88,
      "id": "9F1meAqsuUjd",
      "metadata": {
        "id": "9F1meAqsuUjd"
      },
      "outputs": [
        {
          "data": {
            "text/html": [
              "<div>\n",
              "<style scoped>\n",
              "    .dataframe tbody tr th:only-of-type {\n",
              "        vertical-align: middle;\n",
              "    }\n",
              "\n",
              "    .dataframe tbody tr th {\n",
              "        vertical-align: top;\n",
              "    }\n",
              "\n",
              "    .dataframe thead th {\n",
              "        text-align: right;\n",
              "    }\n",
              "</style>\n",
              "<table border=\"1\" class=\"dataframe\">\n",
              "  <thead>\n",
              "    <tr style=\"text-align: right;\">\n",
              "      <th></th>\n",
              "      <th>data_vacansies</th>\n",
              "    </tr>\n",
              "  </thead>\n",
              "  <tbody>\n",
              "    <tr>\n",
              "      <th>0</th>\n",
              "      <td>1771</td>\n",
              "    </tr>\n",
              "  </tbody>\n",
              "</table>\n",
              "</div>"
            ],
            "text/plain": [
              "   data_vacansies\n",
              "0            1771"
            ]
          },
          "metadata": {},
          "output_type": "display_data"
        }
      ],
      "source": [
        "result = conn.execute(text(query_6_1)).fetchall()\n",
        "df = pd.DataFrame(result)\n",
        "display(df)"
      ]
    },
    {
      "cell_type": "markdown",
      "id": "4dea20cb-a36b-474a-a0b9-e08e8e3857a5",
      "metadata": {
        "id": "4dea20cb-a36b-474a-a0b9-e08e8e3857a5"
      },
      "source": [
        "2. Сколько есть подходящих вакансий для начинающего дата-сайентиста? \n",
        "Будем считать вакансиями для дата-сайентистов такие, в названии которых есть хотя бы одно из следующих сочетаний:\n",
        "* 'data scientist'\n",
        "* 'data science'\n",
        "* 'исследователь данных'\n",
        "* 'ML' (здесь не нужно брать вакансии по HTML)\n",
        "* 'machine learning'\n",
        "* 'машинн%обучен%'\n",
        "\n",
        "** В следующих заданиях мы продолжим работать с вакансиями по этому условию.*\n",
        "\n",
        "Считаем вакансиями для специалистов уровня Junior следующие:\n",
        "* в названии есть слово 'junior' *или*\n",
        "* требуемый опыт — Нет опыта *или*\n",
        "* тип трудоустройства — Стажировка.\n",
        " "
      ]
    },
    {
      "cell_type": "code",
      "execution_count": 100,
      "id": "9c61b3c0-bb66-46c9-ae1e-81d3f5752b4a",
      "metadata": {
        "id": "9c61b3c0-bb66-46c9-ae1e-81d3f5752b4a"
      },
      "outputs": [],
      "source": [
        "query_6_2 = '''\n",
        "select\n",
        "count (*) as data_vacansies\n",
        "from public.vacancies v \n",
        "where (v.name ILIKE '%data scientist%' OR v.name ILIKE '%data science%' OR v.name ILIKE '%исследователь данных%' OR v.name ILIKE '%machine learning%' OR v.name ILIKE '%машинн%обучен%%' OR (v.name ILIKE '%ML%' and v.name not ILIKE '%html%' and v.name not ILIKE '%teamlead%'))\n",
        "and (v.name ILIKE '%junior%' or v.employment = 'Стажировка' or v.experience = 'Нет опыта')\n",
        "'''"
      ]
    },
    {
      "cell_type": "code",
      "execution_count": 101,
      "id": "ZNM-LLYuu1dj",
      "metadata": {
        "id": "ZNM-LLYuu1dj"
      },
      "outputs": [
        {
          "data": {
            "text/html": [
              "<div>\n",
              "<style scoped>\n",
              "    .dataframe tbody tr th:only-of-type {\n",
              "        vertical-align: middle;\n",
              "    }\n",
              "\n",
              "    .dataframe tbody tr th {\n",
              "        vertical-align: top;\n",
              "    }\n",
              "\n",
              "    .dataframe thead th {\n",
              "        text-align: right;\n",
              "    }\n",
              "</style>\n",
              "<table border=\"1\" class=\"dataframe\">\n",
              "  <thead>\n",
              "    <tr style=\"text-align: right;\">\n",
              "      <th></th>\n",
              "      <th>data_vacansies</th>\n",
              "    </tr>\n",
              "  </thead>\n",
              "  <tbody>\n",
              "    <tr>\n",
              "      <th>0</th>\n",
              "      <td>51</td>\n",
              "    </tr>\n",
              "  </tbody>\n",
              "</table>\n",
              "</div>"
            ],
            "text/plain": [
              "   data_vacansies\n",
              "0              51"
            ]
          },
          "metadata": {},
          "output_type": "display_data"
        }
      ],
      "source": [
        "result = conn.execute(text(query_6_2)).fetchall()\n",
        "df = pd.DataFrame(result)\n",
        "display(df)"
      ]
    },
    {
      "cell_type": "markdown",
      "id": "eedceb80-c5ca-480e-b27a-278dfb8b4438",
      "metadata": {
        "id": "eedceb80-c5ca-480e-b27a-278dfb8b4438"
      },
      "source": [
        "3. Сколько есть вакансий для DS, в которых в качестве ключевого навыка указан SQL или postgres?\n",
        "\n",
        "** Критерии для отнесения вакансии к DS указаны в предыдущем задании.*"
      ]
    },
    {
      "cell_type": "code",
      "execution_count": 102,
      "id": "69621713-0cc5-4f1b-a1d7-bb144fa6148c",
      "metadata": {
        "id": "69621713-0cc5-4f1b-a1d7-bb144fa6148c"
      },
      "outputs": [],
      "source": [
        "query_6_3 = '''\n",
        "select\n",
        "count (v.id)\n",
        "from public.vacancies v \n",
        "where (v.name ILIKE '%data scientist%' OR v.name ILIKE '%data science%' OR v.name ILIKE '%исследователь данных%' OR v.name ILIKE '%machine learning%' OR v.name ILIKE '%машинн%обучен%%' OR (v.name ILIKE '%ML%' and v.name not ILIKE '%html%' and v.name not ILIKE '%teamlead%'))\n",
        "and (v.key_skills ILIKE '%postgres%' or v.key_skills ILIKE '%SQL%')\n",
        "'''"
      ]
    },
    {
      "cell_type": "code",
      "execution_count": 103,
      "id": "alA8WEAAvGdf",
      "metadata": {
        "id": "alA8WEAAvGdf"
      },
      "outputs": [
        {
          "data": {
            "text/html": [
              "<div>\n",
              "<style scoped>\n",
              "    .dataframe tbody tr th:only-of-type {\n",
              "        vertical-align: middle;\n",
              "    }\n",
              "\n",
              "    .dataframe tbody tr th {\n",
              "        vertical-align: top;\n",
              "    }\n",
              "\n",
              "    .dataframe thead th {\n",
              "        text-align: right;\n",
              "    }\n",
              "</style>\n",
              "<table border=\"1\" class=\"dataframe\">\n",
              "  <thead>\n",
              "    <tr style=\"text-align: right;\">\n",
              "      <th></th>\n",
              "      <th>count</th>\n",
              "    </tr>\n",
              "  </thead>\n",
              "  <tbody>\n",
              "    <tr>\n",
              "      <th>0</th>\n",
              "      <td>201</td>\n",
              "    </tr>\n",
              "  </tbody>\n",
              "</table>\n",
              "</div>"
            ],
            "text/plain": [
              "   count\n",
              "0    201"
            ]
          },
          "metadata": {},
          "output_type": "display_data"
        }
      ],
      "source": [
        "result = conn.execute(text(query_6_3)).fetchall()\n",
        "df = pd.DataFrame(result)\n",
        "display(df)"
      ]
    },
    {
      "cell_type": "markdown",
      "id": "1be1e9c6-37cf-4a5f-bfeb-04cab799dc80",
      "metadata": {
        "id": "1be1e9c6-37cf-4a5f-bfeb-04cab799dc80"
      },
      "source": [
        "4. Проверьте, насколько популярен Python в требованиях работодателей к DS.Для этого вычислите количество вакансий, в которых в качестве ключевого навыка указан Python.\n",
        "\n",
        "** Это можно сделать помощью запроса, аналогичного предыдущему.*"
      ]
    },
    {
      "cell_type": "code",
      "execution_count": 104,
      "id": "0036a355-9ccf-4564-8b01-73d8194297e7",
      "metadata": {
        "id": "0036a355-9ccf-4564-8b01-73d8194297e7"
      },
      "outputs": [],
      "source": [
        "query_6_4 = '''\n",
        "select\n",
        "count (v.id)\n",
        "from public.vacancies v \n",
        "where (v.name ILIKE '%data scientist%' OR v.name ILIKE '%data science%' OR v.name ILIKE '%исследователь данных%' OR v.name ILIKE '%machine learning%' OR v.name ILIKE '%машинн%обучен%%' OR (v.name ILIKE '%ML%' and v.name not ILIKE '%html%' and v.name not ILIKE '%teamlead%'))\n",
        "and (v.key_skills ILIKE '%python%')\n",
        "'''"
      ]
    },
    {
      "cell_type": "code",
      "execution_count": 105,
      "id": "1i-5WyucvQ6v",
      "metadata": {
        "id": "1i-5WyucvQ6v"
      },
      "outputs": [
        {
          "data": {
            "text/html": [
              "<div>\n",
              "<style scoped>\n",
              "    .dataframe tbody tr th:only-of-type {\n",
              "        vertical-align: middle;\n",
              "    }\n",
              "\n",
              "    .dataframe tbody tr th {\n",
              "        vertical-align: top;\n",
              "    }\n",
              "\n",
              "    .dataframe thead th {\n",
              "        text-align: right;\n",
              "    }\n",
              "</style>\n",
              "<table border=\"1\" class=\"dataframe\">\n",
              "  <thead>\n",
              "    <tr style=\"text-align: right;\">\n",
              "      <th></th>\n",
              "      <th>count</th>\n",
              "    </tr>\n",
              "  </thead>\n",
              "  <tbody>\n",
              "    <tr>\n",
              "      <th>0</th>\n",
              "      <td>351</td>\n",
              "    </tr>\n",
              "  </tbody>\n",
              "</table>\n",
              "</div>"
            ],
            "text/plain": [
              "   count\n",
              "0    351"
            ]
          },
          "metadata": {},
          "output_type": "display_data"
        }
      ],
      "source": [
        "result = conn.execute(text(query_6_4)).fetchall()\n",
        "df = pd.DataFrame(result)\n",
        "display(df)"
      ]
    },
    {
      "cell_type": "markdown",
      "id": "ec3c8db7-fa21-4a41-a994-1af63742a642",
      "metadata": {
        "id": "ec3c8db7-fa21-4a41-a994-1af63742a642"
      },
      "source": [
        "5. Сколько ключевых навыков в среднем указывают в вакансиях для DS?\n",
        "Ответ округлите до двух знаков после точки-разделителя."
      ]
    },
    {
      "cell_type": "code",
      "execution_count": 111,
      "id": "949132bc-d5b6-4611-8218-0b9a504d74f4",
      "metadata": {
        "id": "949132bc-d5b6-4611-8218-0b9a504d74f4"
      },
      "outputs": [],
      "source": [
        "query_6_5 = '''\n",
        "SELECT ROUND(AVG(length(key_skills) + 1 - length(REPLACE(key_skills, CHR(9), '' )))::numeric, 2) \n",
        "FROM vacancies \n",
        "WHERE ((name ILIKE '%data scientist%') OR (name ILIKE '%data science%') OR (name ILIKE '%исследователь данных%') OR ((name LIKE '%ML%') AND (name NOT ILIKE '%HTML%')) OR (name ILIKE '%machine learning%') OR (name ILIKE '%машинн%обучен%') AND (key_skills IS NOT NULL)) \n",
        "'''"
      ]
    },
    {
      "cell_type": "code",
      "execution_count": 112,
      "id": "a3V24Tvmviqk",
      "metadata": {
        "id": "a3V24Tvmviqk"
      },
      "outputs": [
        {
          "data": {
            "text/html": [
              "<div>\n",
              "<style scoped>\n",
              "    .dataframe tbody tr th:only-of-type {\n",
              "        vertical-align: middle;\n",
              "    }\n",
              "\n",
              "    .dataframe tbody tr th {\n",
              "        vertical-align: top;\n",
              "    }\n",
              "\n",
              "    .dataframe thead th {\n",
              "        text-align: right;\n",
              "    }\n",
              "</style>\n",
              "<table border=\"1\" class=\"dataframe\">\n",
              "  <thead>\n",
              "    <tr style=\"text-align: right;\">\n",
              "      <th></th>\n",
              "      <th>round</th>\n",
              "    </tr>\n",
              "  </thead>\n",
              "  <tbody>\n",
              "    <tr>\n",
              "      <th>0</th>\n",
              "      <td>6.41</td>\n",
              "    </tr>\n",
              "  </tbody>\n",
              "</table>\n",
              "</div>"
            ],
            "text/plain": [
              "  round\n",
              "0  6.41"
            ]
          },
          "metadata": {},
          "output_type": "display_data"
        }
      ],
      "source": [
        "result = conn.execute(text(query_6_5)).fetchall()\n",
        "df = pd.DataFrame(result)\n",
        "display(df)"
      ]
    },
    {
      "cell_type": "markdown",
      "id": "1041c17a-ca8f-4543-a0ca-32778914fb00",
      "metadata": {
        "id": "1041c17a-ca8f-4543-a0ca-32778914fb00"
      },
      "source": [
        "6. Напишите запрос, позволяющий вычислить, какую зарплату для DS в **среднем** указывают для каждого типа требуемого опыта (уникальное значение из поля *experience*). \n",
        "\n",
        "При решении задачи примите во внимание следующее:\n",
        "1. Рассматриваем только вакансии, у которых заполнено хотя бы одно из двух полей с зарплатой.\n",
        "2. Если заполнены оба поля с зарплатой, то считаем зарплату по каждой вакансии как сумму двух полей, делённую на 2. Если заполнено только одно из полей, то его и считаем зарплатой по вакансии.\n",
        "3. Если в расчётах участвует null, в результате он тоже даст null (посмотрите, что возвращает запрос select 1 + null). Чтобы избежать этой ситуацию, мы воспользуемся функцией [coalesce](https://postgrespro.ru/docs/postgresql/9.5/functions-conditional#functions-coalesce-nvl-ifnull), которая заменит null на значение, которое мы передадим. Например, посмотрите, что возвращает запрос `select 1 + coalesce(null, 0)`\n",
        "\n",
        "Выясните, на какую зарплату в среднем может рассчитывать дата-сайентист с опытом работы от 3 до 6 лет. Результат округлите до целого числа. "
      ]
    },
    {
      "cell_type": "code",
      "execution_count": 116,
      "id": "6a743d39-5204-48d3-8271-b9f88e68d40e",
      "metadata": {
        "id": "6a743d39-5204-48d3-8271-b9f88e68d40e"
      },
      "outputs": [],
      "source": [
        "query_6_6 = '''\n",
        "SELECT\n",
        "experience,\n",
        "ROUND(AVG(COALESCE((salary_from+salary_to)/2, salary_from, salary_to)),0)\n",
        "FROM public.vacancies\n",
        "WHERE ((name ILIKE '%data scientist%') \n",
        "OR (name ILIKE '%data science%')  \n",
        "OR (name ILIKE '%исследователь данных%')    \n",
        "OR ((name LIKE '%ML%') \n",
        "AND (name NOT ILIKE '%HTML%')) \n",
        "OR (name ILIKE '%machine learning%') \n",
        "OR (name ILIKE '%машинн%обучен%') \n",
        "AND (key_skills IS NOT NULL))\n",
        "AND ((salary_from IS NOT NULL) OR (salary_to IS NOT NULL))\n",
        "GROUP BY experience         \n",
        "'''"
      ]
    },
    {
      "cell_type": "code",
      "execution_count": 117,
      "id": "aRIJ0mZEwU1_",
      "metadata": {
        "id": "aRIJ0mZEwU1_"
      },
      "outputs": [
        {
          "data": {
            "text/html": [
              "<div>\n",
              "<style scoped>\n",
              "    .dataframe tbody tr th:only-of-type {\n",
              "        vertical-align: middle;\n",
              "    }\n",
              "\n",
              "    .dataframe tbody tr th {\n",
              "        vertical-align: top;\n",
              "    }\n",
              "\n",
              "    .dataframe thead th {\n",
              "        text-align: right;\n",
              "    }\n",
              "</style>\n",
              "<table border=\"1\" class=\"dataframe\">\n",
              "  <thead>\n",
              "    <tr style=\"text-align: right;\">\n",
              "      <th></th>\n",
              "      <th>experience</th>\n",
              "      <th>round</th>\n",
              "    </tr>\n",
              "  </thead>\n",
              "  <tbody>\n",
              "    <tr>\n",
              "      <th>0</th>\n",
              "      <td>Нет опыта</td>\n",
              "      <td>74643</td>\n",
              "    </tr>\n",
              "    <tr>\n",
              "      <th>1</th>\n",
              "      <td>От 1 года до 3 лет</td>\n",
              "      <td>145236</td>\n",
              "    </tr>\n",
              "    <tr>\n",
              "      <th>2</th>\n",
              "      <td>От 3 до 6 лет</td>\n",
              "      <td>243115</td>\n",
              "    </tr>\n",
              "  </tbody>\n",
              "</table>\n",
              "</div>"
            ],
            "text/plain": [
              "           experience   round\n",
              "0           Нет опыта   74643\n",
              "1  От 1 года до 3 лет  145236\n",
              "2       От 3 до 6 лет  243115"
            ]
          },
          "metadata": {},
          "output_type": "display_data"
        }
      ],
      "source": [
        "result = conn.execute(text(query_6_6)).fetchall()\n",
        "df = pd.DataFrame(result)\n",
        "display(df)"
      ]
    },
    {
      "cell_type": "markdown",
      "id": "6a7892b4-4113-4746-adce-18aa2844f18e",
      "metadata": {
        "id": "6a7892b4-4113-4746-adce-18aa2844f18e"
      },
      "source": [
        "***"
      ]
    },
    {
      "cell_type": "code",
      "execution_count": 53,
      "id": "UjLWUptVwY1o",
      "metadata": {
        "id": "UjLWUptVwY1o"
      },
      "outputs": [],
      "source": [
        "# Для подавляющего большинства дата-саентистов требуется знание Питона. Также во многих случаях требуется знание SQL, но это не панацея. Зарплаты для дата-саентистов однозначно хорошая (реклама не врет)."
      ]
    },
    {
      "cell_type": "markdown",
      "id": "c0ED6fh7wiBT",
      "metadata": {
        "id": "c0ED6fh7wiBT"
      },
      "source": [
        "# Общий вывод по проекту"
      ]
    },
    {
      "cell_type": "code",
      "execution_count": 54,
      "id": "h9B3BL-wwj18",
      "metadata": {
        "id": "h9B3BL-wwj18"
      },
      "outputs": [],
      "source": [
        "# У айтишников высокие зарплаты, it-компании больше всех нанимают и предлагают удаленку, при этом хорошо платят.\n",
        "# к сожалению, нет времени на доп исследования"
      ]
    }
  ],
  "metadata": {
    "colab": {
      "collapsed_sections": [
        "8d62a9f3-f64e-4fe7-bdac-c4dffa16155e"
      ],
      "provenance": []
    },
    "kernelspec": {
      "display_name": "Python 3",
      "language": "python",
      "name": "python3"
    },
    "language_info": {
      "codemirror_mode": {
        "name": "ipython",
        "version": 3
      },
      "file_extension": ".py",
      "mimetype": "text/x-python",
      "name": "python",
      "nbconvert_exporter": "python",
      "pygments_lexer": "ipython3",
      "version": "3.11.0"
    },
    "vscode": {
      "interpreter": {
        "hash": "aee8b7b246df8f9039afb4144a1f6fd8d2ca17a180786b69acc140d282b71a49"
      }
    }
  },
  "nbformat": 4,
  "nbformat_minor": 5
}
