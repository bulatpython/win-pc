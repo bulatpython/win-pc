{
 "cells": [
  {
   "cell_type": "code",
   "execution_count": 1,
   "metadata": {},
   "outputs": [
    {
     "name": "stdout",
     "output_type": "stream",
     "text": [
      "{'a1': 1, 'b2': 2, 'c3': 3}\n"
     ]
    }
   ],
   "source": [
    "my_dict = {'a': 1, 'b': 2, 'c': 3}\n",
    "\n",
    "# Создаем пустой словарь, чтобы сохранить измененные ключи\n",
    "new_dict = {}\n",
    "\n",
    "# Перебираем элементы словаря с помощью цикла for\n",
    "for i, (key, value) in enumerate(my_dict.items()):\n",
    "    new_key = key + str(i+1) # Добавляем к ключу его порядковый номер\n",
    "    new_dict[new_key] = value # Добавляем новую пару ключ-значение в новый словарь\n",
    "\n",
    "# Выводим результат\n",
    "print(new_dict)\n"
   ]
  },
  {
   "cell_type": "code",
   "execution_count": 1,
   "metadata": {},
   "outputs": [
    {
     "name": "stdout",
     "output_type": "stream",
     "text": [
      "Посещаемость сайта aeroport.website за 2023-03-19: 9124.0\n",
      "Посещаемость сайта aeroportpro.ru за 2023-03-19: 296.0\n",
      "Посещаемость сайта allairportsworld.net за 2023-03-19: 11.0\n",
      "Посещаемость сайта aviadiscounter.com за 2023-03-19: 103.0\n",
      "Посещаемость сайта avtovokzal24.ru за 2023-03-19: 0.0\n",
      "Посещаемость сайта brandcatalog.ru за 2023-03-19: 4171.0\n",
      "Посещаемость сайта busfan.ru за 2023-03-19: 2153.0\n",
      "Посещаемость сайта businesslounges.ru за 2023-03-19: 168.0\n",
      "Посещаемость сайта chemicalportal.ru за 2023-03-19: 1487.0\n",
      "Посещаемость сайта energoseti.ru за 2023-03-19: 2477.0\n",
      "Посещаемость сайта epolymer.ru за 2023-03-19: 689.0\n",
      "Посещаемость сайта factories.by за 2023-03-19: 398.0\n",
      "Посещаемость сайта factories.com.ua за 2023-03-19: 46.0\n",
      "Посещаемость сайта factories.kz за 2023-03-19: 306.0\n",
      "Посещаемость сайта factories.pl за 2023-03-19: 28.0\n",
      "Посещаемость сайта foodsuppliers.ru за 2023-03-19: 1162.0\n",
      "Посещаемость сайта freetutorials.ru за 2023-03-19: 28.0\n",
      "Посещаемость сайта goldentraff.ru за 2023-03-19: 0.0\n",
      "Посещаемость сайта molokozavody.ru за 2023-03-19: 8.0\n",
      "Посещаемость сайта myasokombinaty.ru за 2023-03-19: 204.0\n",
      "Посещаемость сайта pticefabriki.ru за 2023-03-19: 420.0\n",
      "Посещаемость сайта selhozproizvoditeli.ru за 2023-03-19: 1125.0\n",
      "Посещаемость сайта softfinder.ru за 2023-03-19: 60.0\n",
      "Посещаемость сайта sugarfactories.ru за 2023-03-19: 47.0\n",
      "Посещаемость сайта teatrygoroda.ru за 2023-03-19: 17.0\n",
      "Посещаемость сайта topphotospots.com за 2023-03-19: 496.0\n",
      "Посещаемость сайта uglevodorody.ru за 2023-03-19: 924.0\n",
      "Посещаемость сайта vahti.ru за 2023-03-19: 230.0\n",
      "Посещаемость сайта vokzalzhd.ru за 2023-03-19: 8428.0\n",
      "Посещаемость сайта waterresources.ru за 2023-03-19: 2419.0\n",
      "Посещаемость сайта wideopenroad.ru за 2023-03-19: 83.0\n",
      "Посещаемость сайта wmuseum.ru за 2023-03-19: 640.0\n",
      "Посещаемость сайта zhdbilet.com за 2023-03-19: 1917.0\n",
      "Посещаемость сайта ветклиники.рф за 2023-03-19: 475.0\n",
      "Посещаемость сайта кирпичныезаводы.рф за 2023-03-19: 99.0\n",
      "Посещаемость сайта роддома.рф за 2023-03-19: 166.0\n",
      "Посещаемость сайта тепличныехозяйства.рф за 2023-03-19: 26.0\n",
      "Посещаемость сайта тикеры.рф за 2023-03-19: 0.0\n",
      "Посещаемость сайта транспортные-компании.рф за 2023-03-19: 302.0\n",
      "Посещаемость сайта холдинги.рф за 2023-03-19: 599.0\n",
      "Посещаемость сайта центры-занятости.рф за 2023-03-19: 45.0\n",
      "Посещаемость сайта эквайринги.рф за 2023-03-19: 1.0\n",
      "Посещаемость сайта allbanksworld.ru за 2023-03-19: 1079.0\n",
      "Посещаемость сайта countercharacter.com за 2023-03-19: 149.0\n",
      "Посещаемость сайта fabricators.ru за 2023-03-19: 12574.0\n",
      "Посещаемость сайта fermers.ru за 2023-03-19: 3055.0\n",
      "Посещаемость сайта functiontranslator.com за 2023-03-19: 102.0\n",
      "Посещаемость сайта localvet.ru за 2023-03-19: 769.0\n",
      "Посещаемость сайта manufacturers.ru за 2023-03-19: 4275.0\n",
      "Посещаемость сайта optsbyt.ru за 2023-03-19: 829.0\n",
      "Посещаемость сайта pervichki.ru за 2023-03-19: 1047.0\n",
      "Посещаемость сайта poisk-v-seti.ru за 2023-03-19: 1667.0\n",
      "Посещаемость сайта searchfactory.ru за 2023-03-19: 2433.0\n",
      "Посещаемость сайта www.seostop.ru за 2023-03-19: 582.0\n",
      "Посещаемость сайта sudyrf.info за 2023-03-19: 173.0\n",
      "Посещаемость сайта translitonline.com за 2023-03-19: 1323.0\n",
      "Посещаемость сайта whatflower.net за 2023-03-19: 153.0\n",
      "Посещаемость сайта вооружение.рф за 2023-03-19: 587.0\n",
      "Посещаемость сайта заводы.рф за 2023-03-19: 9308.0\n",
      "Посещаемость сайта попутчик.рф за 2023-03-19: 965.0\n",
      "Посещаемость сайта пробки-онлайн.рф за 2023-03-19: 4448.0\n",
      "Посещаемость сайта производитель.рф за 2023-03-19: 5667.0\n",
      "Посещаемость сайта промоборудование.рф за 2023-03-19: 187.0\n"
     ]
    }
   ],
   "source": [
    "import requests\n",
    "import datetime\n",
    "\n",
    "TOKEN = \"AQAAAAA_yEc9AAeMBG2xGUAtEkuhsQHfqd89Tg8\"\n",
    "\n",
    "headers = {\n",
    "    \"Authorization\": f\"OAuth {TOKEN}\"\n",
    "}\n",
    "\n",
    "def get_counters():\n",
    "    url = \"https://api-metrika.yandex.net/management/v1/counters\"\n",
    "    response = requests.get(url, headers=headers)\n",
    "    return response.json()[\"counters\"]\n",
    "\n",
    "def get_visits(counter_id, date_from, date_to):\n",
    "    url = f\"https://api-metrika.yandex.net/stat/v1/data\"\n",
    "    params = {\n",
    "        \"id\": counter_id,\n",
    "        \"metrics\": \"ym:s:visits\",\n",
    "        \"date1\": date_from,\n",
    "        \"date2\": date_to\n",
    "    }\n",
    "    response = requests.get(url, headers=headers, params=params)\n",
    "    return response.json()[\"totals\"][0]\n",
    "\n",
    "def main():\n",
    "    today = datetime.date.today()\n",
    "    yesterday = today - datetime.timedelta(days=1)\n",
    "    counters = get_counters()\n",
    "\n",
    "    for counter in counters:\n",
    "        visits = get_visits(counter[\"id\"], yesterday.isoformat(), yesterday.isoformat())\n",
    "        print(f\"Посещаемость сайта {counter['site']} за {yesterday.isoformat()}: {visits}\")\n",
    "\n",
    "if __name__ == \"__main__\":\n",
    "    main()"
   ]
  }
 ],
 "metadata": {
  "kernelspec": {
   "display_name": "Python 3",
   "language": "python",
   "name": "python3"
  },
  "language_info": {
   "codemirror_mode": {
    "name": "ipython",
    "version": 3
   },
   "file_extension": ".py",
   "mimetype": "text/x-python",
   "name": "python",
   "nbconvert_exporter": "python",
   "pygments_lexer": "ipython3",
   "version": "3.11.0"
  },
  "orig_nbformat": 4,
  "vscode": {
   "interpreter": {
    "hash": "aee8b7b246df8f9039afb4144a1f6fd8d2ca17a180786b69acc140d282b71a49"
   }
  }
 },
 "nbformat": 4,
 "nbformat_minor": 2
}
