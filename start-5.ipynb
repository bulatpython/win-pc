{
 "cells": [
  {
   "cell_type": "code",
   "execution_count": 1,
   "metadata": {},
   "outputs": [
    {
     "name": "stdout",
     "output_type": "stream",
     "text": [
      "Hello\n"
     ]
    }
   ],
   "source": [
    "print('Hello')"
   ]
  },
  {
   "cell_type": "code",
   "execution_count": 2,
   "metadata": {},
   "outputs": [
    {
     "name": "stdout",
     "output_type": "stream",
     "text": [
      "True True True False\n"
     ]
    }
   ],
   "source": [
    "a = [1,2,3]\n",
    "b = a\n",
    "c = [1,2,3]\n",
    "print(a == b, a == c, a is b, a is c)"
   ]
  },
  {
   "cell_type": "code",
   "execution_count": 8,
   "metadata": {},
   "outputs": [
    {
     "ename": "TypeError",
     "evalue": "can only concatenate list (not \"tuple\") to list",
     "output_type": "error",
     "traceback": [
      "\u001b[0;31m---------------------------------------------------------------------------\u001b[0m",
      "\u001b[0;31mTypeError\u001b[0m                                 Traceback (most recent call last)",
      "Cell \u001b[0;32mIn[8], line 3\u001b[0m\n\u001b[1;32m      1\u001b[0m one \u001b[39m=\u001b[39m [\u001b[39m1\u001b[39m, \u001b[39m\"\u001b[39m\u001b[39m2\u001b[39m\u001b[39m\"\u001b[39m, \u001b[39m3\u001b[39m, \u001b[39m\"\u001b[39m\u001b[39m4\u001b[39m\u001b[39m\"\u001b[39m]\n\u001b[1;32m      2\u001b[0m two \u001b[39m=\u001b[39m (\u001b[39m\"\u001b[39m\u001b[39ma\u001b[39m\u001b[39m\"\u001b[39m, \u001b[39m\"\u001b[39m\u001b[39mb\u001b[39m\u001b[39m\"\u001b[39m, \u001b[39m\"\u001b[39m\u001b[39mc\u001b[39m\u001b[39m\"\u001b[39m, \u001b[39m\"\u001b[39m\u001b[39md\u001b[39m\u001b[39m\"\u001b[39m)\n\u001b[0;32m----> 3\u001b[0m three \u001b[39m=\u001b[39m one \u001b[39m+\u001b[39;49m two\n",
      "\u001b[0;31mTypeError\u001b[0m: can only concatenate list (not \"tuple\") to list"
     ]
    }
   ],
   "source": [
    "one = [1, \"2\", 3, \"4\"]\n",
    "two = (\"a\", \"b\", \"c\", \"d\")\n",
    "three = one + two"
   ]
  },
  {
   "attachments": {},
   "cell_type": "markdown",
   "metadata": {},
   "source": []
  },
  {
   "cell_type": "code",
   "execution_count": 14,
   "metadata": {},
   "outputs": [
    {
     "name": "stdout",
     "output_type": "stream",
     "text": [
      "[1, 2, 3, 4]\n"
     ]
    }
   ],
   "source": [
    "my_lst = [1,2,3,4,6]\n",
    "my_lst = my_lst[:-1]\n",
    "print(my_lst)"
   ]
  },
  {
   "cell_type": "code",
   "execution_count": 22,
   "metadata": {},
   "outputs": [
    {
     "name": "stdout",
     "output_type": "stream",
     "text": [
      "Berlin 3748148\n",
      "Hamburg 1822445\n",
      "Munich 1471508\n",
      "Cologne 1085664\n",
      "Frankfurt 753056\n"
     ]
    }
   ],
   "source": [
    "my_dict = {'Berlin': 3748148, 'Hamburg': 1822445, 'Munich': 1471508, 'Cologne': 1085664, 'Frankfurt': 753056 }\n",
    "\n",
    "for key, value in my_dict.items():\n",
    "    print(key, value)\n"
   ]
  },
  {
   "attachments": {},
   "cell_type": "markdown",
   "metadata": {},
   "source": [
    "for key, value in my_dict:\n",
    "\n",
    "for key, value in my_dict.items():\n",
    "\n",
    "for key, value in my_dict.values():\n",
    "\n",
    "for key, value in my_dict.keys().values():"
   ]
  },
  {
   "cell_type": "code",
   "execution_count": 28,
   "metadata": {},
   "outputs": [
    {
     "name": "stdout",
     "output_type": "stream",
     "text": [
      "abc\n",
      "abcd\n"
     ]
    }
   ],
   "source": [
    "s = 'a b c'\n",
    "s = ''.join(s.split(' '))\n",
    "print(s)\n",
    "\n",
    "s = 'a b c d'\n",
    "b = s.replace(' ', '')\n",
    "print(b)\n"
   ]
  },
  {
   "cell_type": "code",
   "execution_count": 36,
   "metadata": {},
   "outputs": [
    {
     "name": "stdout",
     "output_type": "stream",
     "text": [
      "True\n"
     ]
    }
   ],
   "source": [
    "s = '1234'\n",
    "print(s.isnumeric())\n",
    "\n"
   ]
  },
  {
   "cell_type": "code",
   "execution_count": 37,
   "metadata": {},
   "outputs": [
    {
     "ename": "NameError",
     "evalue": "name 'data' is not defined",
     "output_type": "error",
     "traceback": [
      "\u001b[0;31m---------------------------------------------------------------------------\u001b[0m",
      "\u001b[0;31mNameError\u001b[0m                                 Traceback (most recent call last)",
      "Cell \u001b[0;32mIn[37], line 20\u001b[0m\n\u001b[1;32m     18\u001b[0m \u001b[39m# Вызов функций\u001b[39;00m\n\u001b[1;32m     19\u001b[0m read_data()\n\u001b[0;32m---> 20\u001b[0m freq(\u001b[39m'\u001b[39;49m\u001b[39mвойна\u001b[39;49m\u001b[39m'\u001b[39;49m)\n",
      "Cell \u001b[0;32mIn[37], line 10\u001b[0m, in \u001b[0;36mfreq\u001b[0;34m(target_word)\u001b[0m\n\u001b[1;32m      8\u001b[0m \u001b[39mdef\u001b[39;00m \u001b[39mfreq\u001b[39m(target_word):  \n\u001b[1;32m      9\u001b[0m     new_dict \u001b[39m=\u001b[39m \u001b[39mdict\u001b[39m() \n\u001b[0;32m---> 10\u001b[0m     \u001b[39mfor\u001b[39;00m i \u001b[39min\u001b[39;00m data: \u001b[39m# СТРОКА С ОШИБКОЙ\u001b[39;00m\n\u001b[1;32m     11\u001b[0m         \u001b[39mif\u001b[39;00m i \u001b[39mnot\u001b[39;00m \u001b[39min\u001b[39;00m new_dict:\n\u001b[1;32m     12\u001b[0m             new_dict[i] \u001b[39m=\u001b[39m \u001b[39m1\u001b[39m\n",
      "\u001b[0;31mNameError\u001b[0m: name 'data' is not defined"
     ]
    }
   ],
   "source": [
    "\n",
    "def read_data():\n",
    "    data = open('data/war_peace_processed.txt', 'rt', encoding='utf-8').read()\n",
    "    data = data.split('\\n')\n",
    "    return data\n",
    "\n",
    "\n",
    "# Функция подсчёта частоты употребления слова в тексте\n",
    "def freq(target_word):  \n",
    "    new_dict = dict() \n",
    "    for i in data: # СТРОКА С ОШИБКОЙ\n",
    "        if i not in new_dict:\n",
    "            new_dict[i] = 1\n",
    "        else:\n",
    "            new_dict[i] = new_dict.get(i) + 1\n",
    "    return new_dict.get(target_word, 0)\n",
    "\n",
    "\n",
    "# Вызов функций\n",
    "read_data()\n",
    "freq('война')\n"
   ]
  },
  {
   "attachments": {},
   "cell_type": "markdown",
   "metadata": {},
   "source": [
    "Вам предоставлен словарь products, ключами которого являются названия продуктов, а значениями — их цены. Затем к вам приходит другой словарь (stocks), ключи которого — товары, а значения — скидки (в процентах) на товары.\n",
    "\n",
    "Напишите функцию apply_discounts(products, stocks), которая снижает цену продуктов в словаре products на указанный в словаре stocks процент. Функция должна вернуть результирующий словарь, ключи которого — товары, а значения — новые цены. Если продукта из словаря stocks нет в словаре products, то его необходимо пропустить. Цены округлите до второго знака после запятой."
   ]
  },
  {
   "cell_type": "code",
   "execution_count": 50,
   "metadata": {},
   "outputs": [
    {
     "name": "stdout",
     "output_type": "stream",
     "text": [
      "{'Boiled sausage': dict_values([114.99, 280.0, 199.99, 119.99, 399.99])}\n"
     ]
    }
   ],
   "source": [
    "products = {'Oranges (packaged)': 114.99, 'Candy (Rotfront)': 280.0, 'Boiled sausage': 199.99, 'Juice J7 (orange)': 119.99, 'Trout (Seven Seas)': 399.99}\n",
    "stocks = {'Boiled sausage': '33%', 'Juice J7 (orange)': '12%', 'Trout (Seven Seas)': '18%'}\n",
    "\n",
    "def apply_discounts(products, stocks):\n",
    "    products_1 = products.keys()\n",
    "    products_2 = stocks.keys()\n",
    "    dct = dict()\n",
    "    for product in products.keys():\n",
    "        for stock in stocks.keys():\n",
    "            if product == stock:\n",
    "                dct = {**dct, product: products.values()}\n",
    "                return dct\n",
    "\n",
    "\n",
    "print(apply_discounts(products, stocks))\n",
    "\n",
    "\n",
    "\n",
    "#This code is contributed by Edula Vinay Kumar Reddy\n",
    "\n",
    "## {'Oranges (packaged)': 114.99, 'Candy (Rotfront)': 280.0, 'Boiled sausage': 133.99, 'Juice J7 (orange)': 105.59, 'Trout (Seven Seas)': 327.99}"
   ]
  },
  {
   "cell_type": "code",
   "execution_count": 55,
   "metadata": {},
   "outputs": [
    {
     "name": "stdout",
     "output_type": "stream",
     "text": [
      "{'Boiled sausage': dict_values([114.99, 280.0, 199.99, 119.99, 399.99]), 'Juice J7 (orange)': dict_values([114.99, 280.0, 199.99, 119.99, 399.99]), 'Trout (Seven Seas)': dict_values([114.99, 280.0, 199.99, 119.99, 399.99])}\n"
     ]
    }
   ],
   "source": [
    "products = {'Oranges (packaged)': 114.99, 'Candy (Rotfront)': 280.0, 'Boiled sausage': 199.99, 'Juice J7 (orange)': 119.99, 'Trout (Seven Seas)': 399.99}\n",
    "stocks = {'Boiled sausage': '33%', 'Juice J7 (orange)': '12%', 'Trout (Seven Seas)': '18%'}\n",
    "\n",
    "products_1 = products.keys()\n",
    "products_2 = stocks.keys()\n",
    "products_3 = list()\n",
    "for product1 in products_1:\n",
    "    for product2 in products_2:\n",
    "        if product1 == product2:\n",
    "            products_3.append(product1)\n",
    "\n",
    "dct = dict()\n",
    "dct = dict.fromkeys(products_3, 0)\n",
    "\n",
    "for good1 in products.keys():\n",
    "    for good2 in stocks.keys():\n",
    "        if good1 == good2:\n",
    "            dct.update({good1: products.values()})\n",
    "print(dct)\n",
    "\n"
   ]
  },
  {
   "attachments": {},
   "cell_type": "markdown",
   "metadata": {},
   "source": [
    "Вам даны два файла bronze_top.csv и silver_top.csv, в которых хранится информация о ТОП-5 стран по числу бронзовых и серебряных медалей соответственно. В каждой таблице два одинаковых столбца: Country — страна и Total — число медалей.\n",
    "\n",
    "Создайте два DataFrame на основе заданных csv-файлов. Объедините таблицы по странам таким образом, чтобы в результат вошли данные только о тех странах, которые попали в оба рейтинга. При этом в качестве суффиксов укажите строки \"_bronze\" и \"_silver\", чтобы столбцы таблиц, не участвовавших в объединении, можно было различать.\n",
    "\n",
    "Результирующий DataFrame занесите в переменную merged. В нём должны быть следующие столбцы:\n",
    "\n",
    "Country\n",
    "Total_bronze\n",
    "Total_silver\n",
    "Не забудьте добавить в свой код импорт библиотеки pandas.\n",
    "\n",
    "Также обратите внимание, что для отправки решения на проверку выводить результат на экран не нужно."
   ]
  },
  {
   "cell_type": "code",
   "execution_count": 56,
   "metadata": {},
   "outputs": [
    {
     "name": "stdout",
     "output_type": "stream",
     "text": [
      "Объединенный словарь: {'ананасы': 57, 'арбузы': 666, 'черника': 111, 'манго': 34, 'груши': 400, 'бананы': 733, 'лимоны': 98, 'виноград': 90, 'малина': 777, 'сливы': 76, 'яблоки': 400, 'апельсины': 300, 'лаймы': 353}\n"
     ]
    }
   ],
   "source": [
    "dict1 = {'яблоки': 100, 'бананы': 333, 'груши': 200,\n",
    "         'апельсины': 300, 'ананасы': 45, 'лимоны': 98,\n",
    "     \t'сливы': 76, 'манго': 34, 'виноград': 90, 'лаймы': 230}\n",
    "dict2 = {'яблоки': 300, 'груши': 200, 'бананы': 400,\n",
    "     \t'малина': 777, 'ананасы': 12, 'лаймы': 123, 'черника': 111, 'арбузы': 666}\n",
    "merged_dict = {key: dict1.get(key, 0) + dict2.get(key, 0) for key in set(dict1) | set(dict2)}\n",
    "print(\"Объединенный словарь:\", merged_dict)\n",
    "\n",
    "products = {'Oranges (packaged)': 114.99, 'Candy (Rotfront)': 280.0, 'Boiled sausage': 199.99, 'Juice J7 (orange)': 119.99, 'Trout (Seven Seas)': 399.99}\n",
    "stocks = {'Boiled sausage': '33%', 'Juice J7 (orange)': '12%', 'Trout (Seven Seas)': '18%'}\n",
    "stocks_2 = \n",
    "\n",
    "new_price = {key: products.get(key, 0) - products.get(key, 0) * int(stocks.get(key, 0))}"
   ]
  },
  {
   "cell_type": "code",
   "execution_count": 66,
   "metadata": {},
   "outputs": [
    {
     "name": "stdout",
     "output_type": "stream",
     "text": [
      "{'Boiled sausage': 0.33, 'Juice J7 (orange)': 0.12, 'Trout (Seven Seas)': 0.18}\n",
      "{'Boiled sausage': 133.9933, 'Candy (Rotfront)': 280.0, 'Oranges (packaged)': 114.99, 'Juice J7 (orange)': 105.5912, 'Trout (Seven Seas)': 327.9918}\n"
     ]
    }
   ],
   "source": [
    "stocks = {'Boiled sausage': '33%', 'Juice J7 (orange)': '12%', 'Trout (Seven Seas)': '18%'}\n",
    "\n",
    "for good, percent in stocks.items():\n",
    "    stocks[good] = int(percent.replace('%',''))/100\n",
    "print(stocks)\n",
    "products = {'Oranges (packaged)': 114.99, 'Candy (Rotfront)': 280.0, 'Boiled sausage': 199.99, 'Juice J7 (orange)': 119.99, 'Trout (Seven Seas)': 399.99}\n",
    "new_price = {key: products.get(key, 0) - products.get(key, 0) * stocks.get(key, 0) for key in set(products) | set(stocks)}\n",
    "print(new_price)\n",
    "\n",
    "\n"
   ]
  },
  {
   "attachments": {},
   "cell_type": "markdown",
   "metadata": {},
   "source": [
    "Дана таблица с данными о ежедневной выработке энергии солнечными батареями. Информация содержится в двух столбцах:\n",
    "\n",
    "date — дата наблюдения;\n",
    "cum_power — накопленная (кумулятивная) выработка энергии на указанный день.\n",
    "Таким образом, перед вами классический пример временного ряда — числовой показатель, зависящий от времени. Давайте с ним поработаем.\n",
    "\n",
    "Для начала прочитаем таблицу и выведем первые пять её строк:\n",
    "\n",
    "solar_data = pd.read_csv('data/solarpower.csv')\n",
    "solar_data.head()\n",
    "img\n",
    "\n",
    "Задание 3.1\n",
    "1 point possible (graded)\n",
    "В нашем временном ряде есть несколько пропусков, они обозначены числом -1. Заполните пропуски средним арифметическим между двумя соседними наблюдениями:\n",
    "\n",
    "Совет: проще всего будет сделать это, используя цикл по индексам элементов столбца cum_power, но вы можете предложить более изящное решение.\n",
    "\n",
    "Чему равно среднее арифметическое в столбце cum_power после заполнения пропусков? Ответ округлите до целого.\n",
    "\n",
    "  нет ответа \n",
    " \n",
    "СохранитьSave your answer\n",
    "Отправить\n",
    "You have used 0 of 1 attemptSome problems have options such as save, reset, hints, or show answer. These options follow the Submit button.\n",
    "Задание 3.2\n",
    "1 point possible (graded)\n",
    "Теперь, когда таблица заполнена, создайте столбец day_power — ежедневная выработка солнечной энергии.\n",
    "\n",
    "Далее создайте данные о средней ежедневной выработке энергии на каждый месяц-год.\n",
    "\n",
    "Совет: для того чтобы выделить из даты год и месяц, проще всего будет воспользоваться методом аксессора dt.to_period('M'), который позволяет выделять периоды (в данном случае 'М' — месяц).\n",
    "\n",
    "Затем сгруппируйте данные по периодам (год-месяц) и рассчитайте среднее в столбце day_power.\n",
    "\n",
    "Сколько солнечной энергии в среднем в день выработали в марте 2017 года? Ответ округлите до целого.\n",
    "\n",
    "  нет ответа \n",
    " \n",
    "Hint\n",
    "СохранитьSave your answer\n",
    "Отправить\n",
    "You have used 0 of 1 attemptSome problems have options such as save, reset, hints, or show answer. These options follow the Submit button.\n",
    "Задание 3.3\n",
    "1 point possible (graded)\n",
    "\n",
    "Постройте график временного ряда — средней ежедневной выработки солнечной энергии на каждый месяц-год. Не забудьте подписать оси и сам график.\n",
    "\n",
    "Выберите вывод, который можно сделать из полученного графика:\n",
    "\n",
    "В периоды осень-зима наблюдается наименьшая выработка солнечной энергии, в периоды весна-лета — наибольшая.\n",
    "В периоды весна-лета наблюдается наименьшая выработка солнечной энергии, в периоды осень-зима — наибольшая.\n",
    "Выработка солнечной энергии примерно одинакова во все сезоны."
   ]
  },
  {
   "cell_type": "code",
   "execution_count": 72,
   "metadata": {},
   "outputs": [
    {
     "name": "stdout",
     "output_type": "stream",
     "text": [
      "{'Boiled sausage': 0.33, 'Juice J7 (orange)': 0.12, 'Trout (Seven Seas)': 0.18}\n",
      "{'Boiled sausage': 199.99, 'Juice J7 (orange)': 119.99, 'Trout (Seven Seas)': 399.99}\n",
      "{'Boiled sausage': 133.99, 'Juice J7 (orange)': 105.59, 'Trout (Seven Seas)': 327.99}\n"
     ]
    }
   ],
   "source": [
    "products = {'Oranges (packaged)': 114.99, 'Candy (Rotfront)': 280.0, 'Boiled sausage': 199.99, 'Juice J7 (orange)': 119.99, 'Trout (Seven Seas)': 399.99}\n",
    "stocks = {'Boiled sausage': '33%', 'Juice J7 (orange)': '12%', 'Trout (Seven Seas)': '18%'}\n",
    "\n",
    "products_1 = products.keys()\n",
    "products_2 = stocks.keys()\n",
    "products_3 = list()\n",
    "for product1 in products_1:\n",
    "    for product2 in products_2:\n",
    "        if product1 == product2:\n",
    "            products_3.append(product1)\n",
    "            \n",
    "\n",
    "for good, percent in stocks.items():\n",
    "    stocks[good] = int(percent.replace('%',''))/100\n",
    "print(stocks)\n",
    "\n",
    "goods = {}\n",
    "for good, price in products.items():\n",
    "    if good in products_3:\n",
    "        goods[good] = price\n",
    "print(goods)\n",
    "        \n",
    "new_price = {key: goods.get(key, 0) - goods.get(key, 0) * stocks.get(key, 0) for key in set(goods) | set(stocks)}\n",
    "result = {}\n",
    "for product, price in new_price.items():\n",
    "    result[product] = round(price,2)\n",
    "print(result)\n"
   ]
  },
  {
   "cell_type": "code",
   "execution_count": 74,
   "metadata": {},
   "outputs": [
    {
     "name": "stdout",
     "output_type": "stream",
     "text": [
      "{'Oranges (packaged)': 114.99, 'Candy (Rotfront)': 280.0, 'Boiled sausage': 133.99, 'Juice J7 (orange)': 105.59, 'Trout (Seven Seas)': 327.99}\n"
     ]
    }
   ],
   "source": [
    "products = {'Oranges (packaged)': 114.99, 'Candy (Rotfront)': 280.0, 'Boiled sausage': 199.99, 'Juice J7 (orange)': 119.99, 'Trout (Seven Seas)': 399.99}\n",
    "stocks = {'Boiled sausage': '33%', 'Juice J7 (orange)': '12%', 'Trout (Seven Seas)': '18%'}\n",
    "\n",
    "def apply_discounts(products, stocks):\n",
    "    products_1 = products.keys()\n",
    "    products_2 = stocks.keys()\n",
    "    products_3 = list()\n",
    "    for product1 in products_1:\n",
    "        for product2 in products_2:\n",
    "            if product1 == product2:\n",
    "                products_3.append(product1)\n",
    "            \n",
    "\n",
    "    for good, percent in stocks.items():\n",
    "        stocks[good] = int(percent.replace('%',''))/100\n",
    "\n",
    "    goods = {}\n",
    "    for good, price in products.items():\n",
    "        if good in products_3:\n",
    "            goods[good] = price\n",
    "        \n",
    "    new_price = {key: goods.get(key, 0) - goods.get(key, 0) * stocks.get(key, 0) for key in set(goods) | set(stocks)}\n",
    "    goods_stocks = {}\n",
    "    for product, price in new_price.items():\n",
    "        goods_stocks[product] = round(price,2)\n",
    "    \n",
    "    result = {}\n",
    "    for good, price in products.items():\n",
    "        if good in products_3:\n",
    "            result[good] = goods_stocks[good]\n",
    "        else:\n",
    "            result[good] = products[good]\n",
    "    return result\n",
    "    \n",
    "\n",
    "\n",
    "print(apply_discounts(products, stocks))\n",
    "    "
   ]
  },
  {
   "cell_type": "code",
   "execution_count": null,
   "metadata": {},
   "outputs": [],
   "source": [
    "def apply_discounts(products, stocks):\n",
    "    for s in stocks:\n",
    "        stock = float(stocks[s].replace('%', ''))\n",
    "        if s in products:\n",
    "            products[s] = round(products[s] - products[s] * stock /100, 2)\n",
    "    return products"
   ]
  },
  {
   "cell_type": "code",
   "execution_count": 11,
   "metadata": {},
   "outputs": [
    {
     "data": {
      "text/html": [
       "<div>\n",
       "<style scoped>\n",
       "    .dataframe tbody tr th:only-of-type {\n",
       "        vertical-align: middle;\n",
       "    }\n",
       "\n",
       "    .dataframe tbody tr th {\n",
       "        vertical-align: top;\n",
       "    }\n",
       "\n",
       "    .dataframe thead th {\n",
       "        text-align: right;\n",
       "    }\n",
       "</style>\n",
       "<table border=\"1\" class=\"dataframe\">\n",
       "  <thead>\n",
       "    <tr style=\"text-align: right;\">\n",
       "      <th></th>\n",
       "      <th>Country</th>\n",
       "      <th>Total_bronze</th>\n",
       "      <th>Total_silver</th>\n",
       "    </tr>\n",
       "  </thead>\n",
       "  <tbody>\n",
       "    <tr>\n",
       "      <th>0</th>\n",
       "      <td>Russia</td>\n",
       "      <td>10</td>\n",
       "      <td>11</td>\n",
       "    </tr>\n",
       "    <tr>\n",
       "      <th>1</th>\n",
       "      <td>USA</td>\n",
       "      <td>8</td>\n",
       "      <td>7</td>\n",
       "    </tr>\n",
       "    <tr>\n",
       "      <th>2</th>\n",
       "      <td>China</td>\n",
       "      <td>6</td>\n",
       "      <td>9</td>\n",
       "    </tr>\n",
       "    <tr>\n",
       "      <th>3</th>\n",
       "      <td>Germany</td>\n",
       "      <td>4</td>\n",
       "      <td>5</td>\n",
       "    </tr>\n",
       "  </tbody>\n",
       "</table>\n",
       "</div>"
      ],
      "text/plain": [
       "   Country  Total_bronze  Total_silver\n",
       "0   Russia            10            11\n",
       "1      USA             8             7\n",
       "2    China             6             9\n",
       "3  Germany             4             5"
      ]
     },
     "metadata": {},
     "output_type": "display_data"
    },
    {
     "data": {
      "text/html": [
       "<div>\n",
       "<style scoped>\n",
       "    .dataframe tbody tr th:only-of-type {\n",
       "        vertical-align: middle;\n",
       "    }\n",
       "\n",
       "    .dataframe tbody tr th {\n",
       "        vertical-align: top;\n",
       "    }\n",
       "\n",
       "    .dataframe thead th {\n",
       "        text-align: right;\n",
       "    }\n",
       "</style>\n",
       "<table border=\"1\" class=\"dataframe\">\n",
       "  <thead>\n",
       "    <tr style=\"text-align: right;\">\n",
       "      <th></th>\n",
       "      <th>Country</th>\n",
       "      <th>Total</th>\n",
       "    </tr>\n",
       "  </thead>\n",
       "  <tbody>\n",
       "    <tr>\n",
       "      <th>0</th>\n",
       "      <td>Russia</td>\n",
       "      <td>10</td>\n",
       "    </tr>\n",
       "    <tr>\n",
       "      <th>1</th>\n",
       "      <td>USA</td>\n",
       "      <td>8</td>\n",
       "    </tr>\n",
       "    <tr>\n",
       "      <th>2</th>\n",
       "      <td>China</td>\n",
       "      <td>6</td>\n",
       "    </tr>\n",
       "    <tr>\n",
       "      <th>3</th>\n",
       "      <td>Germany</td>\n",
       "      <td>4</td>\n",
       "    </tr>\n",
       "    <tr>\n",
       "      <th>4</th>\n",
       "      <td>Brasil</td>\n",
       "      <td>2</td>\n",
       "    </tr>\n",
       "  </tbody>\n",
       "</table>\n",
       "</div>"
      ],
      "text/plain": [
       "   Country  Total\n",
       "0   Russia     10\n",
       "1      USA      8\n",
       "2    China      6\n",
       "3  Germany      4\n",
       "4   Brasil      2"
      ]
     },
     "metadata": {},
     "output_type": "display_data"
    },
    {
     "data": {
      "text/html": [
       "<div>\n",
       "<style scoped>\n",
       "    .dataframe tbody tr th:only-of-type {\n",
       "        vertical-align: middle;\n",
       "    }\n",
       "\n",
       "    .dataframe tbody tr th {\n",
       "        vertical-align: top;\n",
       "    }\n",
       "\n",
       "    .dataframe thead th {\n",
       "        text-align: right;\n",
       "    }\n",
       "</style>\n",
       "<table border=\"1\" class=\"dataframe\">\n",
       "  <thead>\n",
       "    <tr style=\"text-align: right;\">\n",
       "      <th></th>\n",
       "      <th>Country</th>\n",
       "      <th>Total</th>\n",
       "    </tr>\n",
       "  </thead>\n",
       "  <tbody>\n",
       "    <tr>\n",
       "      <th>0</th>\n",
       "      <td>Russia</td>\n",
       "      <td>11</td>\n",
       "    </tr>\n",
       "    <tr>\n",
       "      <th>1</th>\n",
       "      <td>China</td>\n",
       "      <td>9</td>\n",
       "    </tr>\n",
       "    <tr>\n",
       "      <th>2</th>\n",
       "      <td>USA</td>\n",
       "      <td>7</td>\n",
       "    </tr>\n",
       "    <tr>\n",
       "      <th>3</th>\n",
       "      <td>Germany</td>\n",
       "      <td>5</td>\n",
       "    </tr>\n",
       "    <tr>\n",
       "      <th>4</th>\n",
       "      <td>Argentina</td>\n",
       "      <td>3</td>\n",
       "    </tr>\n",
       "  </tbody>\n",
       "</table>\n",
       "</div>"
      ],
      "text/plain": [
       "     Country  Total\n",
       "0     Russia     11\n",
       "1      China      9\n",
       "2        USA      7\n",
       "3    Germany      5\n",
       "4  Argentina      3"
      ]
     },
     "metadata": {},
     "output_type": "display_data"
    }
   ],
   "source": [
    "import pandas as pd\n",
    "silver = pd.read_csv('data/silver_top.csv', sep=',')\n",
    "bronze = pd.read_csv('data/bronze_top.csv', sep=',')\n",
    "\n",
    "merged = bronze.merge(\n",
    "    silver,\n",
    "    on='Country',\n",
    "    how='inner',\n",
    "    suffixes=('_bronze', '_silver'),\n",
    ")\n",
    "display(merged)\n",
    "display(bronze)\n",
    "display(silver)\n"
   ]
  },
  {
   "cell_type": "code",
   "execution_count": 20,
   "metadata": {},
   "outputs": [
    {
     "data": {
      "text/html": [
       "<div>\n",
       "<style scoped>\n",
       "    .dataframe tbody tr th:only-of-type {\n",
       "        vertical-align: middle;\n",
       "    }\n",
       "\n",
       "    .dataframe tbody tr th {\n",
       "        vertical-align: top;\n",
       "    }\n",
       "\n",
       "    .dataframe thead th {\n",
       "        text-align: right;\n",
       "    }\n",
       "</style>\n",
       "<table border=\"1\" class=\"dataframe\">\n",
       "  <thead>\n",
       "    <tr style=\"text-align: right;\">\n",
       "      <th></th>\n",
       "      <th>date</th>\n",
       "      <th>cum_power</th>\n",
       "    </tr>\n",
       "  </thead>\n",
       "  <tbody>\n",
       "  </tbody>\n",
       "</table>\n",
       "</div>"
      ],
      "text/plain": [
       "Empty DataFrame\n",
       "Columns: [date, cum_power]\n",
       "Index: []"
      ]
     },
     "metadata": {},
     "output_type": "display_data"
    },
    {
     "data": {
      "text/html": [
       "<div>\n",
       "<style scoped>\n",
       "    .dataframe tbody tr th:only-of-type {\n",
       "        vertical-align: middle;\n",
       "    }\n",
       "\n",
       "    .dataframe tbody tr th {\n",
       "        vertical-align: top;\n",
       "    }\n",
       "\n",
       "    .dataframe thead th {\n",
       "        text-align: right;\n",
       "    }\n",
       "</style>\n",
       "<table border=\"1\" class=\"dataframe\">\n",
       "  <thead>\n",
       "    <tr style=\"text-align: right;\">\n",
       "      <th></th>\n",
       "      <th>cum_power</th>\n",
       "    </tr>\n",
       "  </thead>\n",
       "  <tbody>\n",
       "    <tr>\n",
       "      <th>count</th>\n",
       "      <td>664.000000</td>\n",
       "    </tr>\n",
       "    <tr>\n",
       "      <th>mean</th>\n",
       "      <td>23848.246988</td>\n",
       "    </tr>\n",
       "    <tr>\n",
       "      <th>std</th>\n",
       "      <td>2299.031052</td>\n",
       "    </tr>\n",
       "    <tr>\n",
       "      <th>min</th>\n",
       "      <td>20111.000000</td>\n",
       "    </tr>\n",
       "    <tr>\n",
       "      <th>25%</th>\n",
       "      <td>22071.250000</td>\n",
       "    </tr>\n",
       "    <tr>\n",
       "      <th>50%</th>\n",
       "      <td>24037.000000</td>\n",
       "    </tr>\n",
       "    <tr>\n",
       "      <th>75%</th>\n",
       "      <td>25335.500000</td>\n",
       "    </tr>\n",
       "    <tr>\n",
       "      <th>max</th>\n",
       "      <td>28120.000000</td>\n",
       "    </tr>\n",
       "  </tbody>\n",
       "</table>\n",
       "</div>"
      ],
      "text/plain": [
       "          cum_power\n",
       "count    664.000000\n",
       "mean   23848.246988\n",
       "std     2299.031052\n",
       "min    20111.000000\n",
       "25%    22071.250000\n",
       "50%    24037.000000\n",
       "75%    25335.500000\n",
       "max    28120.000000"
      ]
     },
     "execution_count": 20,
     "metadata": {},
     "output_type": "execute_result"
    }
   ],
   "source": [
    "solar_data = pd.read_csv('data/solarpower.csv')\n",
    "mask = solar_data['cum_power'] == -1\n",
    "display(solar_data[mask]) \n",
    "\n",
    "\n",
    "solar_data.describe()\n"
   ]
  },
  {
   "cell_type": "code",
   "execution_count": 19,
   "metadata": {},
   "outputs": [
    {
     "name": "stdout",
     "output_type": "stream",
     "text": [
      "27998.0\n"
     ]
    }
   ],
   "source": [
    "print((27986+28010)/2)"
   ]
  }
 ],
 "metadata": {
  "kernelspec": {
   "display_name": "Python 3",
   "language": "python",
   "name": "python3"
  },
  "language_info": {
   "codemirror_mode": {
    "name": "ipython",
    "version": 3
   },
   "file_extension": ".py",
   "mimetype": "text/x-python",
   "name": "python",
   "nbconvert_exporter": "python",
   "pygments_lexer": "ipython3",
   "version": "3.11.0"
  },
  "orig_nbformat": 4,
  "vscode": {
   "interpreter": {
    "hash": "aee8b7b246df8f9039afb4144a1f6fd8d2ca17a180786b69acc140d282b71a49"
   }
  }
 },
 "nbformat": 4,
 "nbformat_minor": 2
}
